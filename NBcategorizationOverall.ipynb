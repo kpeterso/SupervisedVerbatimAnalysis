{
 "cells": [
  {
   "cell_type": "code",
   "execution_count": 1,
   "metadata": {},
   "outputs": [],
   "source": [
    "import pandas as pd\n",
    "import numpy as np\n",
    "import csv\n",
    "from sklearn.feature_extraction.text import CountVectorizer, TfidfTransformer\n",
    "from sklearn.model_selection import train_test_split, GridSearchCV\n",
    "from sklearn.naive_bayes import MultinomialNB\n",
    "from sklearn.linear_model import SGDClassifier\n",
    "from sklearn.preprocessing import MultiLabelBinarizer\n",
    "from sklearn.svm import SVC\n",
    "from sklearn.pipeline import Pipeline\n",
    "from sklearn.multiclass import OneVsRestClassifier, OneVsOneClassifier\n",
    "from sklearn.ensemble import RandomForestClassifier\n",
    "from sklearn.discriminant_analysis import LinearDiscriminantAnalysis\n"
   ]
  },
  {
   "cell_type": "code",
   "execution_count": 8,
   "metadata": {},
   "outputs": [
    {
     "data": {
      "text/html": [
       "<div>\n",
       "<style>\n",
       "    .dataframe thead tr:only-child th {\n",
       "        text-align: right;\n",
       "    }\n",
       "\n",
       "    .dataframe thead th {\n",
       "        text-align: left;\n",
       "    }\n",
       "\n",
       "    .dataframe tbody tr th {\n",
       "        vertical-align: top;\n",
       "    }\n",
       "</style>\n",
       "<table border=\"1\" class=\"dataframe\">\n",
       "  <thead>\n",
       "    <tr style=\"text-align: right;\">\n",
       "      <th></th>\n",
       "      <th>Category</th>\n",
       "      <th>VerbatimComment</th>\n",
       "      <th>length</th>\n",
       "    </tr>\n",
       "  </thead>\n",
       "  <tbody>\n",
       "    <tr>\n",
       "      <th>0</th>\n",
       "      <td>Acceleration from a Stop</td>\n",
       "      <td># 12 SUV DEMANDS A MORE POWERFUL ENGINE</td>\n",
       "      <td>39</td>\n",
       "    </tr>\n",
       "    <tr>\n",
       "      <th>1</th>\n",
       "      <td>Heating / Cooling Performance</td>\n",
       "      <td># 16 HEATING IT JUST STAYS TOO COLD WHERE IS T...</td>\n",
       "      <td>54</td>\n",
       "    </tr>\n",
       "    <tr>\n",
       "      <th>2</th>\n",
       "      <td>General Dynamic Performance</td>\n",
       "      <td># 17 &amp; # 18 AGILITY &amp; FUN DRIVING PEP TURNING,...</td>\n",
       "      <td>73</td>\n",
       "    </tr>\n",
       "    <tr>\n",
       "      <th>3</th>\n",
       "      <td>General Powertrain</td>\n",
       "      <td># 17 ENGINE &amp; TRANSMISSION</td>\n",
       "      <td>26</td>\n",
       "    </tr>\n",
       "    <tr>\n",
       "      <th>4</th>\n",
       "      <td>Quietness During Acceleration</td>\n",
       "      <td># 17 ENGINE TRANS. - COARSE SOUNDING ON HARD A...</td>\n",
       "      <td>102</td>\n",
       "    </tr>\n",
       "  </tbody>\n",
       "</table>\n",
       "</div>"
      ],
      "text/plain": [
       "                        Category  \\\n",
       "0       Acceleration from a Stop   \n",
       "1  Heating / Cooling Performance   \n",
       "2    General Dynamic Performance   \n",
       "3             General Powertrain   \n",
       "4  Quietness During Acceleration   \n",
       "\n",
       "                                     VerbatimComment  length  \n",
       "0            # 12 SUV DEMANDS A MORE POWERFUL ENGINE      39  \n",
       "1  # 16 HEATING IT JUST STAYS TOO COLD WHERE IS T...      54  \n",
       "2  # 17 & # 18 AGILITY & FUN DRIVING PEP TURNING,...      73  \n",
       "3                         # 17 ENGINE & TRANSMISSION      26  \n",
       "4  # 17 ENGINE TRANS. - COARSE SOUNDING ON HARD A...     102  "
      ]
     },
     "execution_count": 8,
     "metadata": {},
     "output_type": "execute_result"
    }
   ],
   "source": [
    "dataset=pd.read_csv(\"Data/Catagorization training data.csv\").dropna()\n",
    "dataset.columns = ['Category','VerbatimComment','length']\n",
    "dataset.head()"
   ]
  },
  {
   "cell_type": "code",
   "execution_count": 9,
   "metadata": {},
   "outputs": [
    {
     "name": "stdout",
     "output_type": "stream",
     "text": [
      "['# 12 SUV DEMANDS A MORE POWERFUL ENGINE'\n",
      " '# 16 HEATING IT JUST STAYS TOO COLD WHERE IS THE HEAT.'\n",
      " '# 17 & # 18 AGILITY & FUN DRIVING PEP TURNING, SOLID PRODUCING CONFIDENCE'\n",
      " '# 17 ENGINE & TRANSMISSION'\n",
      " '# 17 ENGINE TRANS. - COARSE SOUNDING ON HARD ACCELERATION WOULD LIKE TO HAVE GDI FOR ADDED HORSE POWER'\n",
      " '# 17 ENGINE VERY DUICK AND CUT TRANSMISSION IS SMOOTH'\n",
      " '# 17 ENGINE/TRANSMISSION MPG / PERFORMANCE SMOOTHNESS / POWER / MANUAL'\n",
      " '# 17E LEATHER SEATS AND GREAT DASH BOARD'\n",
      " '# 18 - IT RIDES ROUGH EVEN ON THE HIGH WAY. I CAN HEAR THE ROUGHNESS.'\n",
      " '# 18 AMOUNT OF TRUNK SPACE - GOOD FOR A SMALL CAR']\n"
     ]
    }
   ],
   "source": [
    "commentVector=dataset[\"VerbatimComment\"].values\n",
    "print(commentVector[:10])"
   ]
  },
  {
   "cell_type": "code",
   "execution_count": 34,
   "metadata": {},
   "outputs": [
    {
     "name": "stdout",
     "output_type": "stream",
     "text": [
      "0.804260626285\n"
     ]
    }
   ],
   "source": [
    "#test with SGD classifier\n",
    "X=dataset.values[:,1]\n",
    "y=dataset.values[:,0]\n",
    "Xtrain,Xtest,ytrain,ytest=train_test_split(X,y,stratify=y)\n",
    "CategoryTextPipe=Pipeline([('vect',CountVectorizer(ngram_range=(1,2),stop_words='english')),\n",
    "                   ('tfidf',TfidfTransformer()),\n",
    "                   ('clf',SGDClassifier(loss='hinge', penalty='l2',alpha=1e-6, n_jobs=-1, random_state=42))])\n",
    "textPipe = CategoryTextPipe.fit(Xtrain,ytrain)\n",
    "print(CategoryTextPipe.score(Xtest,ytest))"
   ]
  },
  {
   "cell_type": "code",
   "execution_count": 47,
   "metadata": {},
   "outputs": [],
   "source": [
    "import csv\n",
    "import codecs\n",
    "verbatims=[]\n",
    "with codecs.open('Data/verbatims.csv', 'r', encoding='ascii', errors='ignore') as f:\n",
    "    reader = csv.reader(f)\n",
    "    for line in reader:\n",
    "        verbatims.append(line[0])\n",
    "        \n",
    "verbatimsdf = pd.DataFrame(verbatims)"
   ]
  },
  {
   "cell_type": "code",
   "execution_count": 63,
   "metadata": {},
   "outputs": [
    {
     "data": {
      "text/plain": [
       "\"I don't feel anything can be done about how I feel. It is a beautiful car. I just don't like some things about it. Wish I had researched more and comparing to my previous vehicle, I miss the car I traded in. I probably would not purchase this vehicle again.\""
      ]
     },
     "execution_count": 63,
     "metadata": {},
     "output_type": "execute_result"
    }
   ],
   "source": [
    "verbatimsdf.loc[6][0]"
   ]
  },
  {
   "cell_type": "code",
   "execution_count": 57,
   "metadata": {},
   "outputs": [],
   "source": [
    "v=CategoryTextPipe.predict(verbatimsdf.values.flatten())"
   ]
  },
  {
   "cell_type": "code",
   "execution_count": 65,
   "metadata": {},
   "outputs": [],
   "source": [
    "pd.DataFrame(v).to_csv('Data/verbatimcat.csv', index=False)"
   ]
  },
  {
   "cell_type": "code",
   "execution_count": 37,
   "metadata": {},
   "outputs": [
    {
     "name": "stdout",
     "output_type": "stream",
     "text": [
      "0.661779081134\n"
     ]
    }
   ],
   "source": [
    "#test with Multinomial Naive Bayes classifier\n",
    "X=dataset.values[:,1]\n",
    "y=dataset.values[:,0]\n",
    "Xtrain,Xtest,ytrain,ytest=train_test_split(X,y,stratify=y)\n",
    "SemanticTextPipe=Pipeline([('vect',CountVectorizer(ngram_range=(1,2),stop_words='english')),\n",
    "                   ('tfidf',TfidfTransformer()),\n",
    "                   ('clf',MultinomialNB(alpha=1e-5))])\n",
    "textPipe = SemanticTextPipe.fit(Xtrain,ytrain)\n",
    "print(SemanticTextPipe.score(Xtest,ytest))"
   ]
  },
  {
   "cell_type": "code",
   "execution_count": 13,
   "metadata": {},
   "outputs": [],
   "source": [
    "parameters = {'vect__ngram_range': [(1, 1), (1, 2)],\n",
    "               'tfidf__use_idf': (True, False),\n",
    "               'clf__alpha': (1e-2, 1e-3, 1e-4, 1e-5, 1e-6),}"
   ]
  },
  {
   "cell_type": "code",
   "execution_count": 14,
   "metadata": {},
   "outputs": [
    {
     "name": "stderr",
     "output_type": "stream",
     "text": [
      "/usr/local/lib/python3.4/dist-packages/sklearn/model_selection/_split.py:581: Warning: The least populated class in y has only 1 members, which is too few. The minimum number of groups for any class cannot be less than n_splits=3.\n",
      "  % (min_groups, self.n_splits)), Warning)\n"
     ]
    }
   ],
   "source": [
    "gs_clf = GridSearchCV(CategoryTextPipe, parameters, n_jobs=-1)\n",
    "gs_clf = gs_clf.fit(X[:400], y[:400])"
   ]
  },
  {
   "cell_type": "code",
   "execution_count": 16,
   "metadata": {},
   "outputs": [
    {
     "name": "stdout",
     "output_type": "stream",
     "text": [
      "0.5825\n",
      "{'clf__alpha': 1e-06, 'vect__ngram_range': (1, 2), 'tfidf__use_idf': True}\n"
     ]
    }
   ],
   "source": [
    "print(gs_clf.best_score_)\n",
    "results=pd.DataFrame(gs_clf.cv_results_)\n",
    "print(results.iloc[17,7])"
   ]
  },
  {
   "cell_type": "code",
   "execution_count": 17,
   "metadata": {},
   "outputs": [
    {
     "name": "stdout",
     "output_type": "stream",
     "text": [
      "['12V / USB / Aux Location / Quantity' 'Bluetooth Connectivity']\n"
     ]
    }
   ],
   "source": [
    "rComments=[\"USB PORT STANDARD ON ALL MODELS ESPECIALLY ONE PLACED IN THE CONSOLE IMPROVING THE RADIO DISPLAY AND PHONE SOUND QUALITY\",\"CONNECTIVITY WITH IPHONE IS INTERMITTENT WITH BLUETOOTH AND SPEAKERS ARE UNACCEPTABLE SPEAKERS SHOULD BE HIGHER QUALITY FOR THE PRICE OF THE VEHICLE\"]\n",
    "b = CategoryTextPipe.predict(rComments)\n",
    "print(b)"
   ]
  },
  {
   "cell_type": "code",
   "execution_count": null,
   "metadata": {},
   "outputs": [],
   "source": [
    "ITDataset=pd.read_csv(\"Data/allitverbatims.csv\")\n",
    "ITDataset.head()"
   ]
  },
  {
   "cell_type": "code",
   "execution_count": null,
   "metadata": {},
   "outputs": [],
   "source": [
    "itComments=ITDataset.values[:,0]\n",
    "print(itComments[0])\n",
    "predList=CategoryTextPipe.predict(itComments)\n",
    "dfPredList=pd.DataFrame(predList)\n",
    "dfPredList.head()"
   ]
  },
  {
   "cell_type": "code",
   "execution_count": null,
   "metadata": {},
   "outputs": [],
   "source": [
    "print(itComments[522],predList[522])\n",
    "result=pd.concat([ITDataset, dfPredList], axis=1)\n",
    "result.head()"
   ]
  },
  {
   "cell_type": "code",
   "execution_count": null,
   "metadata": {},
   "outputs": [],
   "source": [
    "result.to_csv(\"Data/allitcomments_categorized.csv\")"
   ]
  },
  {
   "cell_type": "code",
   "execution_count": null,
   "metadata": {},
   "outputs": [],
   "source": [
    "Xcat=dataset.values[:,1]\n",
    "fulldataCategory=pd.DataFrame(CategoryTextPipe.predict(X))\n",
    "fulldataSemantic=pd.DataFrame(SemanticTextPipe.predict(X))\n",
    "full=pd.concat([dataset,fulldataCategory,fulldataSemantic],axis=1)\n",
    "full.to_csv(\"Data/TrainingData_Categorized\")"
   ]
  },
  {
   "cell_type": "code",
   "execution_count": null,
   "metadata": {},
   "outputs": [],
   "source": [
    "print(len(comments))"
   ]
  },
  {
   "cell_type": "code",
   "execution_count": null,
   "metadata": {
    "collapsed": true
   },
   "outputs": [],
   "source": []
  }
 ],
 "metadata": {
  "kernelspec": {
   "display_name": "Python 3",
   "language": "python",
   "name": "python3"
  },
  "language_info": {
   "codemirror_mode": {
    "name": "ipython",
    "version": 3
   },
   "file_extension": ".py",
   "mimetype": "text/x-python",
   "name": "python",
   "nbconvert_exporter": "python",
   "pygments_lexer": "ipython3",
   "version": "3.4.3"
  }
 },
 "nbformat": 4,
 "nbformat_minor": 1
}
