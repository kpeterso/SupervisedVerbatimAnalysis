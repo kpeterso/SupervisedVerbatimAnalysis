{
 "cells": [
  {
   "cell_type": "code",
   "execution_count": 1,
   "metadata": {
    "collapsed": false
   },
   "outputs": [],
   "source": [
    "import pandas as pd\n",
    "import numpy as np\n",
    "import csv\n",
    "from sklearn.feature_extraction.text import CountVectorizer, TfidfTransformer\n",
    "from sklearn.model_selection import train_test_split, GridSearchCV\n",
    "from sklearn.naive_bayes import MultinomialNB\n",
    "from sklearn.linear_model import SGDClassifier\n",
    "from sklearn.preprocessing import MultiLabelBinarizer\n",
    "from sklearn.svm import SVC\n",
    "from sklearn.pipeline import Pipeline\n",
    "from sklearn.multiclass import OneVsRestClassifier, OneVsOneClassifier\n",
    "from sklearn.ensemble import RandomForestClassifier\n",
    "from sklearn.discriminant_analysis import LinearDiscriminantAnalysis\n"
   ]
  },
  {
   "cell_type": "code",
   "execution_count": 2,
   "metadata": {
    "collapsed": false
   },
   "outputs": [
    {
     "data": {
      "text/html": [
       "<div>\n",
       "<table border=\"1\" class=\"dataframe\">\n",
       "  <thead>\n",
       "    <tr style=\"text-align: right;\">\n",
       "      <th></th>\n",
       "      <th>ModelYear</th>\n",
       "      <th>VerbatimComment</th>\n",
       "      <th>Tone</th>\n",
       "      <th>CustomerComplaint</th>\n",
       "    </tr>\n",
       "  </thead>\n",
       "  <tbody>\n",
       "    <tr>\n",
       "      <th>0</th>\n",
       "      <td>2011</td>\n",
       "      <td># &amp; PLACE OF AREAS T PLUG IN TO CHARGE THINGS ...</td>\n",
       "      <td>N</td>\n",
       "      <td>Audio Format Compatibility</td>\n",
       "    </tr>\n",
       "    <tr>\n",
       "      <th>1</th>\n",
       "      <td>2011</td>\n",
       "      <td># 12 SUV DEMANDS A MORE POWERFUL ENGINE</td>\n",
       "      <td>N</td>\n",
       "      <td>Acceleration from a Stop</td>\n",
       "    </tr>\n",
       "    <tr>\n",
       "      <th>2</th>\n",
       "      <td>2011</td>\n",
       "      <td># 16 HEATING IT JUST STAYS TOO COLD WHERE IS T...</td>\n",
       "      <td>N</td>\n",
       "      <td>Heating / Cooling Performance</td>\n",
       "    </tr>\n",
       "    <tr>\n",
       "      <th>3</th>\n",
       "      <td>2011</td>\n",
       "      <td># 17 &amp; # 18 AGILITY &amp; FUN DRIVING PEP TURNING,...</td>\n",
       "      <td>P</td>\n",
       "      <td>General Dynamic Performance</td>\n",
       "    </tr>\n",
       "    <tr>\n",
       "      <th>4</th>\n",
       "      <td>2011</td>\n",
       "      <td># 17 ENGINE/TRANSMISSION MPG / PERFORMANCE SMO...</td>\n",
       "      <td>P</td>\n",
       "      <td>Fuel Economy</td>\n",
       "    </tr>\n",
       "  </tbody>\n",
       "</table>\n",
       "</div>"
      ],
      "text/plain": [
       "   ModelYear                                    VerbatimComment Tone  \\\n",
       "0       2011  # & PLACE OF AREAS T PLUG IN TO CHARGE THINGS ...    N   \n",
       "1       2011            # 12 SUV DEMANDS A MORE POWERFUL ENGINE    N   \n",
       "2       2011  # 16 HEATING IT JUST STAYS TOO COLD WHERE IS T...    N   \n",
       "3       2011  # 17 & # 18 AGILITY & FUN DRIVING PEP TURNING,...    P   \n",
       "4       2011  # 17 ENGINE/TRANSMISSION MPG / PERFORMANCE SMO...    P   \n",
       "\n",
       "               CustomerComplaint  \n",
       "0     Audio Format Compatibility  \n",
       "1       Acceleration from a Stop  \n",
       "2  Heating / Cooling Performance  \n",
       "3    General Dynamic Performance  \n",
       "4                   Fuel Economy  "
      ]
     },
     "execution_count": 2,
     "metadata": {},
     "output_type": "execute_result"
    }
   ],
   "source": [
    "dataset=pd.read_csv(\"Data/TrainingData.csv\")\n",
    "dataset.head()"
   ]
  },
  {
   "cell_type": "code",
   "execution_count": 3,
   "metadata": {
    "collapsed": false
   },
   "outputs": [
    {
     "name": "stdout",
     "output_type": "stream",
     "text": [
      "['# & PLACE OF AREAS T PLUG IN TO CHARGE THINGS GPS IPOD ETC.'\n",
      " '# 12 SUV DEMANDS A MORE POWERFUL ENGINE'\n",
      " '# 16 HEATING IT JUST STAYS TOO COLD WHERE IS THE HEAT.'\n",
      " '# 17 & # 18 AGILITY & FUN DRIVING PEP TURNING, SOLID PRODUCING CONFIDENCE'\n",
      " '# 17 ENGINE/TRANSMISSION MPG / PERFORMANCE SMOOTHNESS / POWER / MANUAL'\n",
      " '# 18 CARGO SPACE' '# 18 STORAGE AND SPACE'\n",
      " '# 18CENTER CONSOLE IS AWFUL SMALL DARK TOO FAR IMPRACTABLE'\n",
      " '# 19 I NAVIGATION IS NICE' '# 19 NAVIGATION SYSTEM IS AWESOME']\n"
     ]
    }
   ],
   "source": [
    "commentVector=dataset[\"VerbatimComment\"].values\n",
    "print(commentVector[:10])"
   ]
  },
  {
   "cell_type": "code",
   "execution_count": 76,
   "metadata": {
    "collapsed": false
   },
   "outputs": [
    {
     "name": "stdout",
     "output_type": "stream",
     "text": [
      "0.814096499527\n"
     ]
    }
   ],
   "source": [
    "#test with SGD classifier\n",
    "X=dataset.values[:,1]\n",
    "y=dataset.values[:,3]\n",
    "Xtrain,Xtest,ytrain,ytest=train_test_split(X,y,stratify=y)\n",
    "CategoryTextPipe=Pipeline([('vect',CountVectorizer(ngram_range=(1,2),stop_words='english')),\n",
    "                   ('tfidf',TfidfTransformer()),\n",
    "                   ('clf',SGDClassifier(loss='hinge', penalty='l2',alpha=1e-6, n_iter=4, random_state=42))])\n",
    "textPipe = CategoryTextPipe.fit(Xtrain,ytrain)\n",
    "print(CategoryTextPipe.score(Xtest,ytest))"
   ]
  },
  {
   "cell_type": "code",
   "execution_count": 56,
   "metadata": {
    "collapsed": false
   },
   "outputs": [
    {
     "name": "stdout",
     "output_type": "stream",
     "text": [
      "0.851331260981\n"
     ]
    }
   ],
   "source": [
    "#test with Multinomial Naive Bayes classifier\n",
    "X=dataset.values[:,1]\n",
    "y=dataset.values[:,2]\n",
    "Xtrain,Xtest,ytrain,ytest=train_test_split(X,y,stratify=y)\n",
    "SemanticTextPipe=Pipeline([('vect',CountVectorizer(ngram_range=(1,2),stop_words='english')),\n",
    "                   ('tfidf',TfidfTransformer()),\n",
    "                   ('clf',MultinomialNB(alpha=2e-4))])\n",
    "textPipe = SemanticTextPipe.fit(Xtrain,ytrain)\n",
    "print(SemanticTextPipe.score(Xtest,ytest))"
   ]
  },
  {
   "cell_type": "code",
   "execution_count": 39,
   "metadata": {
    "collapsed": false
   },
   "outputs": [],
   "source": [
    "parameters = {'vect__ngram_range': [(1, 1), (1, 2)],\n",
    "               'tfidf__use_idf': (True, False),\n",
    "               'clf__alpha': (1e-2, 1e-3, 1e-4, 1e-5, 1e-6),}"
   ]
  },
  {
   "cell_type": "code",
   "execution_count": 40,
   "metadata": {
    "collapsed": false
   },
   "outputs": [],
   "source": [
    "gs_clf = GridSearchCV(CategoryTextPipe, parameters, n_jobs=-1)\n",
    "gs_clf = gs_clf.fit(X[:400], y[:400])"
   ]
  },
  {
   "cell_type": "code",
   "execution_count": 46,
   "metadata": {
    "collapsed": false
   },
   "outputs": [
    {
     "name": "stdout",
     "output_type": "stream",
     "text": [
      "{'vect__ngram_range': (1, 2), 'tfidf__use_idf': True, 'clf__alpha': 1e-06}\n"
     ]
    }
   ],
   "source": [
    "gs_clf.best_score_\n",
    "results=pd.DataFrame(gs_clf.cv_results_)\n",
    "print(results.iloc[17,7])"
   ]
  },
  {
   "cell_type": "code",
   "execution_count": 57,
   "metadata": {
    "collapsed": false
   },
   "outputs": [
    {
     "name": "stdout",
     "output_type": "stream",
     "text": [
      "['Center Console' 'Bluetooth Connectivity']\n"
     ]
    }
   ],
   "source": [
    "rComments=[\"USB PORT STANDARD ON ALL MODELS ESPECIALLY ONE PLACED IN THE CONSOLE IMPROVING THE RADIO DISPLAY AND PHONE SOUND QUALITY\",\"CONNECTIVITY WITH IPHONE IS INTERMITTENT WITH BLUETOOTH AND SPEAKERS ARE UNACCEPTABLE SPEAKERS SHOULD BE HIGHER QUALITY FOR THE PRICE OF THE VEHICLE\"]\n",
    "b = CategoryTextPipe.predict(rComments)\n",
    "print(b)"
   ]
  },
  {
   "cell_type": "code",
   "execution_count": 86,
   "metadata": {
    "collapsed": false
   },
   "outputs": [
    {
     "data": {
      "text/html": [
       "<div>\n",
       "<table border=\"1\" class=\"dataframe\">\n",
       "  <thead>\n",
       "    <tr style=\"text-align: right;\">\n",
       "      <th></th>\n",
       "      <th>comment</th>\n",
       "    </tr>\n",
       "  </thead>\n",
       "  <tbody>\n",
       "    <tr>\n",
       "      <th>0</th>\n",
       "      <td>I DON T REALLY LIKE THE BUTTON/KNOB LAYOUT ON ...</td>\n",
       "    </tr>\n",
       "    <tr>\n",
       "      <th>1</th>\n",
       "      <td>CD PLAYER</td>\n",
       "    </tr>\n",
       "    <tr>\n",
       "      <th>2</th>\n",
       "      <td>A PILLAR IS HARD TO SEE AROUND AT AN INTERSEC...</td>\n",
       "    </tr>\n",
       "    <tr>\n",
       "      <th>3</th>\n",
       "      <td>A PILLARS OBSTRUCT SIDE VIEW A LITTLE TOO MUCH</td>\n",
       "    </tr>\n",
       "    <tr>\n",
       "      <th>4</th>\n",
       "      <td>AUTOMATIC HIGH/LOW BEAMS</td>\n",
       "    </tr>\n",
       "  </tbody>\n",
       "</table>\n",
       "</div>"
      ],
      "text/plain": [
       "                                             comment\n",
       "0  I DON T REALLY LIKE THE BUTTON/KNOB LAYOUT ON ...\n",
       "1                                         CD PLAYER \n",
       "2   A PILLAR IS HARD TO SEE AROUND AT AN INTERSEC...\n",
       "3     A PILLARS OBSTRUCT SIDE VIEW A LITTLE TOO MUCH\n",
       "4                           AUTOMATIC HIGH/LOW BEAMS"
      ]
     },
     "execution_count": 86,
     "metadata": {},
     "output_type": "execute_result"
    }
   ],
   "source": [
    "ITDataset=pd.read_csv(\"Data/allitverbatims.csv\")\n",
    "ITDataset.head()"
   ]
  },
  {
   "cell_type": "code",
   "execution_count": 87,
   "metadata": {
    "collapsed": false
   },
   "outputs": [
    {
     "name": "stdout",
     "output_type": "stream",
     "text": [
      "I DON T REALLY LIKE THE BUTTON/KNOB LAYOUT ON THE CENTER CONSOLE \n"
     ]
    },
    {
     "data": {
      "text/html": [
       "<div>\n",
       "<table border=\"1\" class=\"dataframe\">\n",
       "  <thead>\n",
       "    <tr style=\"text-align: right;\">\n",
       "      <th></th>\n",
       "      <th>0</th>\n",
       "    </tr>\n",
       "  </thead>\n",
       "  <tbody>\n",
       "    <tr>\n",
       "      <th>0</th>\n",
       "      <td>Center Console</td>\n",
       "    </tr>\n",
       "    <tr>\n",
       "      <th>1</th>\n",
       "      <td>General Audio</td>\n",
       "    </tr>\n",
       "    <tr>\n",
       "      <th>2</th>\n",
       "      <td>Front Visibility</td>\n",
       "    </tr>\n",
       "    <tr>\n",
       "      <th>3</th>\n",
       "      <td>Front Visibility</td>\n",
       "    </tr>\n",
       "    <tr>\n",
       "      <th>4</th>\n",
       "      <td>Headlights</td>\n",
       "    </tr>\n",
       "  </tbody>\n",
       "</table>\n",
       "</div>"
      ],
      "text/plain": [
       "                  0\n",
       "0    Center Console\n",
       "1     General Audio\n",
       "2  Front Visibility\n",
       "3  Front Visibility\n",
       "4        Headlights"
      ]
     },
     "execution_count": 87,
     "metadata": {},
     "output_type": "execute_result"
    }
   ],
   "source": [
    "itComments=ITDataset.values[:,0]\n",
    "print(itComments[0])\n",
    "predList=CategoryTextPipe.predict(itComments)\n",
    "dfPredList=pd.DataFrame(predList)\n",
    "dfPredList.head()"
   ]
  },
  {
   "cell_type": "code",
   "execution_count": 88,
   "metadata": {
    "collapsed": false
   },
   "outputs": [
    {
     "name": "stdout",
     "output_type": "stream",
     "text": [
      "('ABILITY TO SWITCH BETWEEN MUSIC AND PHONE FROM TOUCH BUTTON ON STEERING WHEEL WITHOUT REACHING OVER TO RADIO ABILITY TO CONTROL IPOD FROM STEERING WHEEL ', 'Steering Wheel Controls')\n"
     ]
    },
    {
     "data": {
      "text/html": [
       "<div>\n",
       "<table border=\"1\" class=\"dataframe\">\n",
       "  <thead>\n",
       "    <tr style=\"text-align: right;\">\n",
       "      <th></th>\n",
       "      <th>comment</th>\n",
       "      <th>0</th>\n",
       "    </tr>\n",
       "  </thead>\n",
       "  <tbody>\n",
       "    <tr>\n",
       "      <th>0</th>\n",
       "      <td>I DON T REALLY LIKE THE BUTTON/KNOB LAYOUT ON ...</td>\n",
       "      <td>Center Console</td>\n",
       "    </tr>\n",
       "    <tr>\n",
       "      <th>1</th>\n",
       "      <td>CD PLAYER</td>\n",
       "      <td>General Audio</td>\n",
       "    </tr>\n",
       "    <tr>\n",
       "      <th>2</th>\n",
       "      <td>A PILLAR IS HARD TO SEE AROUND AT AN INTERSEC...</td>\n",
       "      <td>Front Visibility</td>\n",
       "    </tr>\n",
       "    <tr>\n",
       "      <th>3</th>\n",
       "      <td>A PILLARS OBSTRUCT SIDE VIEW A LITTLE TOO MUCH</td>\n",
       "      <td>Front Visibility</td>\n",
       "    </tr>\n",
       "    <tr>\n",
       "      <th>4</th>\n",
       "      <td>AUTOMATIC HIGH/LOW BEAMS</td>\n",
       "      <td>Headlights</td>\n",
       "    </tr>\n",
       "  </tbody>\n",
       "</table>\n",
       "</div>"
      ],
      "text/plain": [
       "                                             comment                 0\n",
       "0  I DON T REALLY LIKE THE BUTTON/KNOB LAYOUT ON ...    Center Console\n",
       "1                                         CD PLAYER      General Audio\n",
       "2   A PILLAR IS HARD TO SEE AROUND AT AN INTERSEC...  Front Visibility\n",
       "3     A PILLARS OBSTRUCT SIDE VIEW A LITTLE TOO MUCH  Front Visibility\n",
       "4                           AUTOMATIC HIGH/LOW BEAMS        Headlights"
      ]
     },
     "execution_count": 88,
     "metadata": {},
     "output_type": "execute_result"
    }
   ],
   "source": [
    "print(itComments[522],predList[522])\n",
    "result=pd.concat([ITDataset, dfPredList], axis=1)\n",
    "result.head()"
   ]
  },
  {
   "cell_type": "code",
   "execution_count": 93,
   "metadata": {
    "collapsed": false
   },
   "outputs": [],
   "source": [
    "result.to_csv(\"Data/allitcomments_categorized.csv\")"
   ]
  },
  {
   "cell_type": "code",
   "execution_count": 97,
   "metadata": {
    "collapsed": false
   },
   "outputs": [],
   "source": [
    "Xcat=dataset.values[:,1]\n",
    "fulldataCategory=pd.DataFrame(CategoryTextPipe.predict(X))\n",
    "fulldataSemantic=pd.DataFrame(SemanticTextPipe.predict(X))\n",
    "full=pd.concat([dataset,fulldataCategory,fulldataSemantic],axis=1)\n",
    "full.to_csv(\"Data/TrainingData_Categorized\")"
   ]
  },
  {
   "cell_type": "code",
   "execution_count": null,
   "metadata": {
    "collapsed": false
   },
   "outputs": [],
   "source": [
    "print(len(comments))"
   ]
  },
  {
   "cell_type": "code",
   "execution_count": null,
   "metadata": {
    "collapsed": true
   },
   "outputs": [],
   "source": []
  }
 ],
 "metadata": {
  "kernelspec": {
   "display_name": "Python 2",
   "language": "python",
   "name": "python2"
  },
  "language_info": {
   "codemirror_mode": {
    "name": "ipython",
    "version": 2
   },
   "file_extension": ".py",
   "mimetype": "text/x-python",
   "name": "python",
   "nbconvert_exporter": "python",
   "pygments_lexer": "ipython2",
   "version": "2.7.6"
  }
 },
 "nbformat": 4,
 "nbformat_minor": 0
}
