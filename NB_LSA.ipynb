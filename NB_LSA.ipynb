{
 "cells": [
  {
   "cell_type": "code",
   "execution_count": 1,
   "metadata": {
    "collapsed": true
   },
   "outputs": [],
   "source": [
    "import pandas as pd\n",
    "import numpy as np\n",
    "import csv\n",
    "from sklearn.feature_extraction.text import CountVectorizer, TfidfTransformer\n",
    "from sklearn.linear_model import LogisticRegression\n",
    "from sklearn.preprocessing import MultiLabelBinarizer\n",
    "from sklearn.svm import SVC, LinearSVC\n",
    "from sklearn.ensemble import RandomForestClassifier\n",
    "from sklearn.discriminant_analysis import LinearDiscriminantAnalysis\n",
    "from sklearn.multiclass import OneVsRestClassifier, OneVsOneClassifier\n",
    "from sklearn.cross_validation import train_test_split\n",
    "from sklearn.linear_model import SGDClassifier\n",
    "import gensim\n",
    "from gensim import corpora, models, matutils\n",
    "import re\n",
    "from nltk.corpus import stopwords\n",
    "from sklearn.metrics import precision_recall_fscore_support\n",
    "from sklearn.grid_search import GridSearchCV\n",
    "from sklearn.metrics import fbeta_score, make_scorer"
   ]
  },
  {
   "cell_type": "code",
   "execution_count": 4,
   "metadata": {
    "collapsed": false
   },
   "outputs": [
    {
     "data": {
      "text/html": [
       "<div>\n",
       "<table border=\"1\" class=\"dataframe\">\n",
       "  <thead>\n",
       "    <tr style=\"text-align: right;\">\n",
       "      <th></th>\n",
       "      <th>comment</th>\n",
       "      <th>Media Inputs</th>\n",
       "      <th>Navigation</th>\n",
       "      <th>APPs</th>\n",
       "      <th>Sound Quality</th>\n",
       "      <th>Audio System</th>\n",
       "      <th>Bluetooth</th>\n",
       "      <th>Voice Recognition</th>\n",
       "      <th>Audio Controls</th>\n",
       "      <th>Connectivity</th>\n",
       "      <th>...</th>\n",
       "      <th>AWD</th>\n",
       "      <th>Sun Visor</th>\n",
       "      <th>Tinted Windows</th>\n",
       "      <th>ABS</th>\n",
       "      <th>Sunroof</th>\n",
       "      <th>Amenities</th>\n",
       "      <th>IT</th>\n",
       "      <th>User Friendliness</th>\n",
       "      <th>ITS</th>\n",
       "      <th>EODO</th>\n",
       "    </tr>\n",
       "  </thead>\n",
       "  <tbody>\n",
       "    <tr>\n",
       "      <th>0</th>\n",
       "      <td>I WOULD LIKE TO HAVE A STANDARD PLUG AVAILABLE...</td>\n",
       "      <td>1</td>\n",
       "      <td>0</td>\n",
       "      <td>0</td>\n",
       "      <td>0</td>\n",
       "      <td>0</td>\n",
       "      <td>0</td>\n",
       "      <td>0</td>\n",
       "      <td>0</td>\n",
       "      <td>0</td>\n",
       "      <td>...</td>\n",
       "      <td>0</td>\n",
       "      <td>0</td>\n",
       "      <td>0</td>\n",
       "      <td>0</td>\n",
       "      <td>0</td>\n",
       "      <td>1</td>\n",
       "      <td>1</td>\n",
       "      <td>0</td>\n",
       "      <td>0</td>\n",
       "      <td>0</td>\n",
       "    </tr>\n",
       "    <tr>\n",
       "      <th>1</th>\n",
       "      <td>TO ACTUALLY HAVE A NAVIGATION SYSTEM BUILT IN</td>\n",
       "      <td>0</td>\n",
       "      <td>1</td>\n",
       "      <td>0</td>\n",
       "      <td>0</td>\n",
       "      <td>0</td>\n",
       "      <td>0</td>\n",
       "      <td>0</td>\n",
       "      <td>0</td>\n",
       "      <td>0</td>\n",
       "      <td>...</td>\n",
       "      <td>0</td>\n",
       "      <td>0</td>\n",
       "      <td>0</td>\n",
       "      <td>0</td>\n",
       "      <td>0</td>\n",
       "      <td>0</td>\n",
       "      <td>1</td>\n",
       "      <td>0</td>\n",
       "      <td>0</td>\n",
       "      <td>0</td>\n",
       "    </tr>\n",
       "    <tr>\n",
       "      <th>2</th>\n",
       "      <td>THE NISSAN CONNECT APPS DO NOT WORK WELL AND T...</td>\n",
       "      <td>0</td>\n",
       "      <td>0</td>\n",
       "      <td>1</td>\n",
       "      <td>0</td>\n",
       "      <td>0</td>\n",
       "      <td>0</td>\n",
       "      <td>0</td>\n",
       "      <td>0</td>\n",
       "      <td>0</td>\n",
       "      <td>...</td>\n",
       "      <td>0</td>\n",
       "      <td>0</td>\n",
       "      <td>0</td>\n",
       "      <td>0</td>\n",
       "      <td>0</td>\n",
       "      <td>0</td>\n",
       "      <td>1</td>\n",
       "      <td>0</td>\n",
       "      <td>0</td>\n",
       "      <td>0</td>\n",
       "    </tr>\n",
       "    <tr>\n",
       "      <th>3</th>\n",
       "      <td>THE VEHICLE DOES NOT HAVE A NAVIGATION SYSTEM ...</td>\n",
       "      <td>0</td>\n",
       "      <td>1</td>\n",
       "      <td>0</td>\n",
       "      <td>0</td>\n",
       "      <td>0</td>\n",
       "      <td>0</td>\n",
       "      <td>0</td>\n",
       "      <td>0</td>\n",
       "      <td>0</td>\n",
       "      <td>...</td>\n",
       "      <td>0</td>\n",
       "      <td>0</td>\n",
       "      <td>0</td>\n",
       "      <td>0</td>\n",
       "      <td>0</td>\n",
       "      <td>0</td>\n",
       "      <td>1</td>\n",
       "      <td>0</td>\n",
       "      <td>0</td>\n",
       "      <td>0</td>\n",
       "    </tr>\n",
       "    <tr>\n",
       "      <th>4</th>\n",
       "      <td>BEING ABLE TO TAKE THE BASS OUT OF THE DOOR SP...</td>\n",
       "      <td>0</td>\n",
       "      <td>0</td>\n",
       "      <td>0</td>\n",
       "      <td>1</td>\n",
       "      <td>0</td>\n",
       "      <td>0</td>\n",
       "      <td>0</td>\n",
       "      <td>0</td>\n",
       "      <td>0</td>\n",
       "      <td>...</td>\n",
       "      <td>0</td>\n",
       "      <td>0</td>\n",
       "      <td>0</td>\n",
       "      <td>0</td>\n",
       "      <td>0</td>\n",
       "      <td>1</td>\n",
       "      <td>0</td>\n",
       "      <td>0</td>\n",
       "      <td>0</td>\n",
       "      <td>0</td>\n",
       "    </tr>\n",
       "  </tbody>\n",
       "</table>\n",
       "<p>5 rows × 43 columns</p>\n",
       "</div>"
      ],
      "text/plain": [
       "                                             comment  Media Inputs  \\\n",
       "0  I WOULD LIKE TO HAVE A STANDARD PLUG AVAILABLE...             1   \n",
       "1     TO ACTUALLY HAVE A NAVIGATION SYSTEM BUILT IN              0   \n",
       "2  THE NISSAN CONNECT APPS DO NOT WORK WELL AND T...             0   \n",
       "3  THE VEHICLE DOES NOT HAVE A NAVIGATION SYSTEM ...             0   \n",
       "4  BEING ABLE TO TAKE THE BASS OUT OF THE DOOR SP...             0   \n",
       "\n",
       "   Navigation  APPs  Sound Quality  Audio System  Bluetooth  \\\n",
       "0           0     0              0             0          0   \n",
       "1           1     0              0             0          0   \n",
       "2           0     1              0             0          0   \n",
       "3           1     0              0             0          0   \n",
       "4           0     0              1             0          0   \n",
       "\n",
       "   Voice Recognition  Audio Controls  Connectivity  ...   AWD  Sun Visor  \\\n",
       "0                  0               0             0  ...     0          0   \n",
       "1                  0               0             0  ...     0          0   \n",
       "2                  0               0             0  ...     0          0   \n",
       "3                  0               0             0  ...     0          0   \n",
       "4                  0               0             0  ...     0          0   \n",
       "\n",
       "   Tinted Windows  ABS  Sunroof  Amenities  IT  User Friendliness  ITS  EODO  \n",
       "0               0    0        0          1   1                  0    0     0  \n",
       "1               0    0        0          0   1                  0    0     0  \n",
       "2               0    0        0          0   1                  0    0     0  \n",
       "3               0    0        0          0   1                  0    0     0  \n",
       "4               0    0        0          1   0                  0    0     0  \n",
       "\n",
       "[5 rows x 43 columns]"
      ]
     },
     "execution_count": 4,
     "metadata": {},
     "output_type": "execute_result"
    }
   ],
   "source": [
    "dataset=pd.read_csv(\"Data/ITcomments.csv\")\n",
    "dataset.head()"
   ]
  },
  {
   "cell_type": "code",
   "execution_count": 113,
   "metadata": {
    "collapsed": false
   },
   "outputs": [],
   "source": [
    "documents=dataset[\"comment\"].values\n",
    "stoplist = set(stopwords.words(\"english\"))\n",
    "texts = [[word for word in document.lower().split() if word not in stoplist] for document in documents]\n",
    "#remove words used once\n",
    "all_tokens = sum(texts, [])\n",
    "tokens_once = set(word for word in set(all_tokens) if all_tokens.count(word) == 1)\n",
    "texts = [[word for word in text if word not in tokens_once] for text in texts]"
   ]
  },
  {
   "cell_type": "code",
   "execution_count": 114,
   "metadata": {
    "collapsed": true
   },
   "outputs": [],
   "source": [
    "#Build a dictionary - a frequency distribution of integer IDs representing words\n",
    "dictionary = corpora.Dictionary(texts)\n",
    "#Build a vector space corpus - use the dictionary to translate\n",
    "# word vectors into sparse feature vectors\n",
    "corpus = [dictionary.doc2bow(text) for text in texts]\n",
    "# Train a model that will \"reward\" tokens that are distinctive to documents - comment out to test non-tfIdf\n",
    "tfidf = models.TfidfModel(corpus)\n",
    "# creates a lazy evaluating wrapper around corpus - doesn't transform the whole corpus\n",
    "#  at once because we don't want to load the whole corpus into memory.\n",
    "corpus_tfidf = tfidf[corpus]"
   ]
  },
  {
   "cell_type": "code",
   "execution_count": 115,
   "metadata": {
    "collapsed": false
   },
   "outputs": [],
   "source": [
    "#create LSI model\n",
    "lsi = models.LsiModel(corpus, id2word=dictionary, num_topics=400)\n",
    "corpus_lsi = lsi[corpus]"
   ]
  },
  {
   "cell_type": "code",
   "execution_count": 116,
   "metadata": {
    "collapsed": false
   },
   "outputs": [
    {
     "ename": "IndexError",
     "evalue": "index 24191 is out of bounds for axis 0 with size 24191",
     "output_type": "error",
     "traceback": [
      "\u001b[1;31m---------------------------------------------------------------------------\u001b[0m",
      "\u001b[1;31mIndexError\u001b[0m                                Traceback (most recent call last)",
      "\u001b[1;32m<ipython-input-116-cf533145318b>\u001b[0m in \u001b[0;36m<module>\u001b[1;34m()\u001b[0m\n\u001b[0;32m      5\u001b[0m     \u001b[0ml\u001b[0m\u001b[1;33m=\u001b[0m\u001b[1;33m[\u001b[0m\u001b[1;33m]\u001b[0m\u001b[1;33m\u001b[0m\u001b[0m\n\u001b[0;32m      6\u001b[0m     \u001b[1;32mfor\u001b[0m \u001b[0mj\u001b[0m \u001b[1;32min\u001b[0m \u001b[0mrange\u001b[0m\u001b[1;33m(\u001b[0m\u001b[0mlen\u001b[0m\u001b[1;33m(\u001b[0m\u001b[0mcol\u001b[0m\u001b[1;33m)\u001b[0m\u001b[1;33m)\u001b[0m\u001b[1;33m:\u001b[0m\u001b[1;33m\u001b[0m\u001b[0m\n\u001b[1;32m----> 7\u001b[1;33m         \u001b[1;32mif\u001b[0m \u001b[0mdata\u001b[0m\u001b[1;33m[\u001b[0m\u001b[0mi\u001b[0m\u001b[1;33m,\u001b[0m\u001b[0mj\u001b[0m\u001b[1;33m]\u001b[0m\u001b[1;33m==\u001b[0m\u001b[1;36m1\u001b[0m\u001b[1;33m:\u001b[0m\u001b[1;33m\u001b[0m\u001b[0m\n\u001b[0m\u001b[0;32m      8\u001b[0m             \u001b[0ml\u001b[0m\u001b[1;33m.\u001b[0m\u001b[0mappend\u001b[0m\u001b[1;33m(\u001b[0m\u001b[0mcol\u001b[0m\u001b[1;33m[\u001b[0m\u001b[0mj\u001b[0m\u001b[1;33m]\u001b[0m\u001b[1;33m)\u001b[0m\u001b[1;33m\u001b[0m\u001b[0m\n\u001b[0;32m      9\u001b[0m     \u001b[0mcatList\u001b[0m\u001b[1;33m.\u001b[0m\u001b[0mappend\u001b[0m\u001b[1;33m(\u001b[0m\u001b[0ml\u001b[0m\u001b[1;33m)\u001b[0m\u001b[1;33m\u001b[0m\u001b[0m\n",
      "\u001b[1;31mIndexError\u001b[0m: index 24191 is out of bounds for axis 0 with size 24191"
     ]
    }
   ],
   "source": [
    "col=dataset.columns.values\n",
    "catList=[]\n",
    "data=dataset.values\n",
    "for i in range(24192):\n",
    "    l=[]\n",
    "    for j in range(len(col)):\n",
    "        if data[i,j]==1:\n",
    "            l.append(col[j])\n",
    "    catList.append(l)\n",
    "print(catList[0:2])\n",
    "m=MultiLabelBinarizer()\n",
    "y=m.fit_transform(catList)\n",
    "print(y[:2])\n",
    "ftwo_scorer = make_scorer(fbeta_score, beta=2)"
   ]
  },
  {
   "cell_type": "code",
   "execution_count": null,
   "metadata": {
    "collapsed": false
   },
   "outputs": [],
   "source": [
    "y=dataset[\"EODO\"].values\n",
    "Xtrain, Xtest, ytrain, ytest=train_test_split(corpus_lsi,y,test_size=.66)\n",
    "sparseLsi=matutils.corpus2csc(Xtrain).transpose()\n",
    "#classifier = OneVsRestClassifier(SVC(kernel='linear',decision_function_shape=None)) #Acc~75%\n",
    "#classifier = OneVsRestClassifier(RandomForestClassifier()) #Acc ~ 45%\n",
    "classifier = OneVsRestClassifier(LogisticRegression()) #Acc ~74%\n",
    "\n",
    "classifier.fit(sparseLsi,ytrain)"
   ]
  },
  {
   "cell_type": "code",
   "execution_count": null,
   "metadata": {
    "collapsed": false
   },
   "outputs": [],
   "source": [
    "sparseLsiTest=matutils.corpus2csc(Xtest).transpose()\n",
    "print(classifier.score(sparseLsiTest,ytest))"
   ]
  },
  {
   "cell_type": "code",
   "execution_count": null,
   "metadata": {
    "collapsed": false
   },
   "outputs": [],
   "source": [
    "classifiers=[]\n",
    "transformedCorpus=matutils.corpus2csc(corpus_lsi).transpose()\n",
    "for c in col[1:]:\n",
    "    print(c)\n",
    "    y=dataset[c].values\n",
    "    Xtrain, Xtest, ytrain, ytest=train_test_split(transformedCorpus,y,test_size=.5,stratify=y)\n",
    "    classifier=SVC(kernel='linear',C=13.75)\n",
    "    classifier.fit(Xtrain,ytrain)\n",
    "    print(\"{} Accuracy: {}\".format(c,classifier.score(Xtest,ytest)))\n",
    "    print(precision_recall_fscore_support(ytest, classifier.predict(Xtest)))\n",
    "    classifiers.append(classifier)"
   ]
  },
  {
   "cell_type": "code",
   "execution_count": 75,
   "metadata": {
    "collapsed": false
   },
   "outputs": [],
   "source": [
    "y=dataset['Air Bags'].values\n",
    "transformedCorpus=matutils.corpus2csc(corpus_lsi).transpose()\n",
    "Xtrain, Xtest, ytrain, ytest=train_test_split(transformedCorpus,y,stratify=y)\n",
    "ftwo_scorer = make_scorer(fbeta_score, beta=2)"
   ]
  },
  {
   "cell_type": "code",
   "execution_count": 97,
   "metadata": {
    "collapsed": false
   },
   "outputs": [
    {
     "name": "stdout",
     "output_type": "stream",
     "text": [
      "{'C': 13.5}\n",
      "0.416584164514\n"
     ]
    }
   ],
   "source": [
    "grid = GridSearchCV(SVC(kernel='linear'), param_grid={'C': [13,13.25,13.5,13.75,14]}, scoring=ftwo_scorer)\n",
    "grid.fit(Xtrain,ytrain)\n",
    "grid.score(Xtest,ytest)\n",
    "print(grid.best_params_)\n",
    "print(grid.best_score_)\n",
    "#precision_recall_fscore_support(ytest, classifier.predict(Xtest))"
   ]
  },
  {
   "cell_type": "code",
   "execution_count": 73,
   "metadata": {
    "collapsed": false
   },
   "outputs": [
    {
     "name": "stdout",
     "output_type": "stream",
     "text": [
      "{'C': 10}\n"
     ]
    }
   ],
   "source": [
    "print(grid.best_params_)"
   ]
  },
  {
   "cell_type": "code",
   "execution_count": null,
   "metadata": {
    "collapsed": true
   },
   "outputs": [],
   "source": []
  }
 ],
 "metadata": {
  "kernelspec": {
   "display_name": "Python 2",
   "language": "python",
   "name": "python2"
  },
  "language_info": {
   "codemirror_mode": {
    "name": "ipython",
    "version": 2
   },
   "file_extension": ".py",
   "mimetype": "text/x-python",
   "name": "python",
   "nbconvert_exporter": "python",
   "pygments_lexer": "ipython2",
   "version": "2.7.6"
  }
 },
 "nbformat": 4,
 "nbformat_minor": 0
}
