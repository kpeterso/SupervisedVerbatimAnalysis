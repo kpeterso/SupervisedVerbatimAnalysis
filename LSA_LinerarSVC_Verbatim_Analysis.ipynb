{
 "cells": [
  {
   "cell_type": "code",
   "execution_count": 1,
   "metadata": {
    "collapsed": true
   },
   "outputs": [],
   "source": [
    "import pandas as pd\n",
    "import numpy as np\n",
    "import csv\n",
    "from sklearn.feature_extraction.text import CountVectorizer, TfidfTransformer\n",
    "from sklearn.linear_model import LogisticRegression\n",
    "from sklearn.preprocessing import MultiLabelBinarizer\n",
    "from sklearn.svm import SVC, LinearSVC\n",
    "from sklearn.ensemble import RandomForestClassifier\n",
    "from sklearn.discriminant_analysis import LinearDiscriminantAnalysis\n",
    "from sklearn.linear_model import SGDClassifier\n",
    "from sklearn.cross_validation import train_test_split\n",
    "import gensim\n",
    "from gensim import corpora, models, matutils\n",
    "import re\n",
    "from nltk.corpus import stopwords\n",
    "from sklearn.metrics import precision_recall_fscore_support\n",
    "from sklearn.grid_search import GridSearchCV\n",
    "from sklearn.metrics import fbeta_score, make_scorer"
   ]
  },
  {
   "cell_type": "markdown",
   "metadata": {},
   "source": [
    "#Create an LSI vector creator with as many verbatims as possible"
   ]
  },
  {
   "cell_type": "code",
   "execution_count": 2,
   "metadata": {
    "collapsed": false
   },
   "outputs": [
    {
     "data": {
      "text/html": [
       "<div>\n",
       "<table border=\"1\" class=\"dataframe\">\n",
       "  <thead>\n",
       "    <tr style=\"text-align: right;\">\n",
       "      <th></th>\n",
       "      <th>comment</th>\n",
       "    </tr>\n",
       "  </thead>\n",
       "  <tbody>\n",
       "    <tr>\n",
       "      <th>0</th>\n",
       "      <td>I DON T REALLY LIKE THE BUTTON/KNOB LAYOUT ON ...</td>\n",
       "    </tr>\n",
       "    <tr>\n",
       "      <th>1</th>\n",
       "      <td>CD PLAYER</td>\n",
       "    </tr>\n",
       "    <tr>\n",
       "      <th>2</th>\n",
       "      <td>A PILLAR IS HARD TO SEE AROUND AT AN INTERSEC...</td>\n",
       "    </tr>\n",
       "    <tr>\n",
       "      <th>3</th>\n",
       "      <td>A PILLARS OBSTRUCT SIDE VIEW A LITTLE TOO MUCH</td>\n",
       "    </tr>\n",
       "    <tr>\n",
       "      <th>4</th>\n",
       "      <td>AUTOMATIC HIGH/LOW BEAMS</td>\n",
       "    </tr>\n",
       "  </tbody>\n",
       "</table>\n",
       "</div>"
      ],
      "text/plain": [
       "                                             comment\n",
       "0  I DON T REALLY LIKE THE BUTTON/KNOB LAYOUT ON ...\n",
       "1                                         CD PLAYER \n",
       "2   A PILLAR IS HARD TO SEE AROUND AT AN INTERSEC...\n",
       "3     A PILLARS OBSTRUCT SIDE VIEW A LITTLE TOO MUCH\n",
       "4                           AUTOMATIC HIGH/LOW BEAMS"
      ]
     },
     "execution_count": 2,
     "metadata": {},
     "output_type": "execute_result"
    }
   ],
   "source": [
    "#Open full verbatim file\n",
    "fullDataset=pd.read_csv(\"Data/allitverbatims.csv\")\n",
    "fullDataset.head()"
   ]
  },
  {
   "cell_type": "code",
   "execution_count": 3,
   "metadata": {
    "collapsed": false
   },
   "outputs": [
    {
     "name": "stdout",
     "output_type": "stream",
     "text": [
      "['I DON T REALLY LIKE THE BUTTON/KNOB LAYOUT ON THE CENTER CONSOLE '\n",
      " '  CD PLAYER ' ' A PILLAR IS HARD TO SEE AROUND AT AN INTERSECTION']\n"
     ]
    }
   ],
   "source": [
    "#tokenize each verbatim, remove stopword tokens and tokens used once in entire vocabulary, put list of tokens in texts\n",
    "fullDocuments=fullDataset[\"comment\"].values\n",
    "print(fullDocuments[:3])\n",
    "stoplist = set(stopwords.words(\"english\"))"
   ]
  },
  {
   "cell_type": "code",
   "execution_count": 4,
   "metadata": {
    "collapsed": false
   },
   "outputs": [],
   "source": [
    "fullTexts = [[word for word in document.lower().split() if word not in stoplist] for document in fullDocuments]\n",
    "#remove words used once\n",
    "all_tokens = sum(fullTexts, [])\n",
    "tokens_once = set(word for word in set(all_tokens) if all_tokens.count(word) == 1)\n",
    "fullTexts = [[word for word in text if word not in tokens_once] for text in fullTexts]"
   ]
  },
  {
   "cell_type": "code",
   "execution_count": 5,
   "metadata": {
    "collapsed": false
   },
   "outputs": [],
   "source": [
    "#Build a dictionary - a frequency distribution of integer IDs representing words\n",
    "dictionary = corpora.Dictionary(fullTexts)\n",
    "#Build a vector space corpus - use the dictionary to translate\n",
    "# word vectors into sparse feature vectors\n",
    "fullCorpus = [dictionary.doc2bow(text) for text in fullTexts]\n",
    "# Train a model that will \"reward\" tokens that are distinctive to documents - comment out to test non-tfIdf\n",
    "tfidf = models.TfidfModel(fullCorpus)\n",
    "# creates a lazy evaluating wrapper around corpus - doesn't transform the whole corpus\n",
    "#  at once because we don't want to load the whole corpus into memory.\n",
    "corpus_tfidf = tfidf[fullCorpus]"
   ]
  },
  {
   "cell_type": "code",
   "execution_count": 6,
   "metadata": {
    "collapsed": false
   },
   "outputs": [],
   "source": [
    "#create LSI model\n",
    "lsi = models.LsiModel(fullCorpus, id2word=dictionary, num_topics=600)"
   ]
  },
  {
   "cell_type": "markdown",
   "metadata": {},
   "source": [
    "Next, Create new corpus from known verbatims, train SVC on those LSI vectors"
   ]
  },
  {
   "cell_type": "code",
   "execution_count": 7,
   "metadata": {
    "collapsed": false
   },
   "outputs": [
    {
     "data": {
      "text/html": [
       "<div>\n",
       "<table border=\"1\" class=\"dataframe\">\n",
       "  <thead>\n",
       "    <tr style=\"text-align: right;\">\n",
       "      <th></th>\n",
       "      <th>comment</th>\n",
       "      <th>Media Inputs</th>\n",
       "      <th>Navigation</th>\n",
       "      <th>APPs</th>\n",
       "      <th>Sound Quality</th>\n",
       "      <th>Audio System</th>\n",
       "      <th>Bluetooth</th>\n",
       "      <th>Voice Recognition</th>\n",
       "      <th>Audio Controls</th>\n",
       "      <th>Connectivity</th>\n",
       "      <th>...</th>\n",
       "      <th>AWD</th>\n",
       "      <th>Sun Visor</th>\n",
       "      <th>Tinted Windows</th>\n",
       "      <th>ABS</th>\n",
       "      <th>Sunroof</th>\n",
       "      <th>Amenities</th>\n",
       "      <th>IT</th>\n",
       "      <th>User Friendliness</th>\n",
       "      <th>ITS</th>\n",
       "      <th>EODO</th>\n",
       "    </tr>\n",
       "  </thead>\n",
       "  <tbody>\n",
       "    <tr>\n",
       "      <th>0</th>\n",
       "      <td>I WOULD LIKE TO HAVE A STANDARD PLUG AVAILABLE...</td>\n",
       "      <td>1</td>\n",
       "      <td>0</td>\n",
       "      <td>0</td>\n",
       "      <td>0</td>\n",
       "      <td>0</td>\n",
       "      <td>0</td>\n",
       "      <td>0</td>\n",
       "      <td>0</td>\n",
       "      <td>0</td>\n",
       "      <td>...</td>\n",
       "      <td>0</td>\n",
       "      <td>0</td>\n",
       "      <td>0</td>\n",
       "      <td>0</td>\n",
       "      <td>0</td>\n",
       "      <td>1</td>\n",
       "      <td>1</td>\n",
       "      <td>0</td>\n",
       "      <td>0</td>\n",
       "      <td>0</td>\n",
       "    </tr>\n",
       "    <tr>\n",
       "      <th>1</th>\n",
       "      <td>TO ACTUALLY HAVE A NAVIGATION SYSTEM BUILT IN</td>\n",
       "      <td>0</td>\n",
       "      <td>1</td>\n",
       "      <td>0</td>\n",
       "      <td>0</td>\n",
       "      <td>0</td>\n",
       "      <td>0</td>\n",
       "      <td>0</td>\n",
       "      <td>0</td>\n",
       "      <td>0</td>\n",
       "      <td>...</td>\n",
       "      <td>0</td>\n",
       "      <td>0</td>\n",
       "      <td>0</td>\n",
       "      <td>0</td>\n",
       "      <td>0</td>\n",
       "      <td>0</td>\n",
       "      <td>1</td>\n",
       "      <td>0</td>\n",
       "      <td>0</td>\n",
       "      <td>0</td>\n",
       "    </tr>\n",
       "    <tr>\n",
       "      <th>2</th>\n",
       "      <td>THE NISSAN CONNECT APPS DO NOT WORK WELL AND T...</td>\n",
       "      <td>0</td>\n",
       "      <td>0</td>\n",
       "      <td>1</td>\n",
       "      <td>0</td>\n",
       "      <td>0</td>\n",
       "      <td>0</td>\n",
       "      <td>0</td>\n",
       "      <td>0</td>\n",
       "      <td>0</td>\n",
       "      <td>...</td>\n",
       "      <td>0</td>\n",
       "      <td>0</td>\n",
       "      <td>0</td>\n",
       "      <td>0</td>\n",
       "      <td>0</td>\n",
       "      <td>0</td>\n",
       "      <td>1</td>\n",
       "      <td>0</td>\n",
       "      <td>0</td>\n",
       "      <td>0</td>\n",
       "    </tr>\n",
       "    <tr>\n",
       "      <th>3</th>\n",
       "      <td>THE VEHICLE DOES NOT HAVE A NAVIGATION SYSTEM ...</td>\n",
       "      <td>0</td>\n",
       "      <td>1</td>\n",
       "      <td>0</td>\n",
       "      <td>0</td>\n",
       "      <td>0</td>\n",
       "      <td>0</td>\n",
       "      <td>0</td>\n",
       "      <td>0</td>\n",
       "      <td>0</td>\n",
       "      <td>...</td>\n",
       "      <td>0</td>\n",
       "      <td>0</td>\n",
       "      <td>0</td>\n",
       "      <td>0</td>\n",
       "      <td>0</td>\n",
       "      <td>0</td>\n",
       "      <td>1</td>\n",
       "      <td>0</td>\n",
       "      <td>0</td>\n",
       "      <td>0</td>\n",
       "    </tr>\n",
       "    <tr>\n",
       "      <th>4</th>\n",
       "      <td>BEING ABLE TO TAKE THE BASS OUT OF THE DOOR SP...</td>\n",
       "      <td>0</td>\n",
       "      <td>0</td>\n",
       "      <td>0</td>\n",
       "      <td>1</td>\n",
       "      <td>0</td>\n",
       "      <td>0</td>\n",
       "      <td>0</td>\n",
       "      <td>0</td>\n",
       "      <td>0</td>\n",
       "      <td>...</td>\n",
       "      <td>0</td>\n",
       "      <td>0</td>\n",
       "      <td>0</td>\n",
       "      <td>0</td>\n",
       "      <td>0</td>\n",
       "      <td>1</td>\n",
       "      <td>0</td>\n",
       "      <td>0</td>\n",
       "      <td>0</td>\n",
       "      <td>0</td>\n",
       "    </tr>\n",
       "  </tbody>\n",
       "</table>\n",
       "<p>5 rows × 43 columns</p>\n",
       "</div>"
      ],
      "text/plain": [
       "                                             comment  Media Inputs  \\\n",
       "0  I WOULD LIKE TO HAVE A STANDARD PLUG AVAILABLE...             1   \n",
       "1     TO ACTUALLY HAVE A NAVIGATION SYSTEM BUILT IN              0   \n",
       "2  THE NISSAN CONNECT APPS DO NOT WORK WELL AND T...             0   \n",
       "3  THE VEHICLE DOES NOT HAVE A NAVIGATION SYSTEM ...             0   \n",
       "4  BEING ABLE TO TAKE THE BASS OUT OF THE DOOR SP...             0   \n",
       "\n",
       "   Navigation  APPs  Sound Quality  Audio System  Bluetooth  \\\n",
       "0           0     0              0             0          0   \n",
       "1           1     0              0             0          0   \n",
       "2           0     1              0             0          0   \n",
       "3           1     0              0             0          0   \n",
       "4           0     0              1             0          0   \n",
       "\n",
       "   Voice Recognition  Audio Controls  Connectivity  ...   AWD  Sun Visor  \\\n",
       "0                  0               0             0  ...     0          0   \n",
       "1                  0               0             0  ...     0          0   \n",
       "2                  0               0             0  ...     0          0   \n",
       "3                  0               0             0  ...     0          0   \n",
       "4                  0               0             0  ...     0          0   \n",
       "\n",
       "   Tinted Windows  ABS  Sunroof  Amenities  IT  User Friendliness  ITS  EODO  \n",
       "0               0    0        0          1   1                  0    0     0  \n",
       "1               0    0        0          0   1                  0    0     0  \n",
       "2               0    0        0          0   1                  0    0     0  \n",
       "3               0    0        0          0   1                  0    0     0  \n",
       "4               0    0        0          1   0                  0    0     0  \n",
       "\n",
       "[5 rows x 43 columns]"
      ]
     },
     "execution_count": 7,
     "metadata": {},
     "output_type": "execute_result"
    }
   ],
   "source": [
    "#Open known verbatim file and read\n",
    "dataset=pd.read_csv(\"IT comments.csv\")\n",
    "dataset.head()"
   ]
  },
  {
   "cell_type": "code",
   "execution_count": 8,
   "metadata": {
    "collapsed": true
   },
   "outputs": [],
   "source": [
    "#create tokenized list of verbatims, just like above\n",
    "trainingDocuments=dataset[\"comment\"].values\n",
    "stoplist = set(stopwords.words(\"english\"))\n",
    "trainingTexts = [[word for word in document.lower().split() if word not in stoplist] for document in trainingDocuments]\n",
    "#remove words used once\n",
    "all_tokens = sum(trainingTexts, [])\n",
    "tokens_once = set(word for word in set(all_tokens) if all_tokens.count(word) == 1)\n",
    "trainingTexts = [[word for word in text if word not in tokens_once] for text in trainingTexts]"
   ]
  },
  {
   "cell_type": "code",
   "execution_count": 9,
   "metadata": {
    "collapsed": true
   },
   "outputs": [],
   "source": [
    "#Build a dictionary - a frequency distribution of integer IDs representing words\n",
    "trainingDictionary = corpora.Dictionary(trainingTexts)\n",
    "#Build a vector space corpus - use the dictionary to translate\n",
    "# word vectors into sparse feature vectors\n",
    "trainingCorpus = [dictionary.doc2bow(text) for text in trainingTexts]"
   ]
  },
  {
   "cell_type": "code",
   "execution_count": 10,
   "metadata": {
    "collapsed": true
   },
   "outputs": [],
   "source": [
    "#convert new corpus into vectors\n",
    "trainingCorpusLsi = lsi[trainingCorpus]\n",
    "sparseTrainingLsi=matutils.corpus2csc(trainingCorpusLsi).transpose()"
   ]
  },
  {
   "cell_type": "code",
   "execution_count": 11,
   "metadata": {
    "collapsed": false
   },
   "outputs": [
    {
     "name": "stdout",
     "output_type": "stream",
     "text": [
      "Accuracy: 0.925181878307\n",
      "(array([ 0.94229341,  0.86474335]), array([ 0.96094764,  0.80925666]), array([ 0.95152911,  0.83608042]), array([9244, 2852]))\n"
     ]
    }
   ],
   "source": [
    "y=dataset[\"Amenities\"].values\n",
    "Xtrain, Xtest, ytrain, ytest=train_test_split(sparseTrainingLsi,y,test_size=.5,stratify=y)\n",
    "classifier=LinearSVC(C=8.5)\n",
    "classifier.fit(Xtrain,ytrain)\n",
    "print(\"Accuracy: {}\".format(classifier.score(Xtest,ytest)))\n",
    "print(precision_recall_fscore_support(ytest, classifier.predict(Xtest)))"
   ]
  },
  {
   "cell_type": "code",
   "execution_count": 12,
   "metadata": {
    "collapsed": false
   },
   "outputs": [
    {
     "name": "stdout",
     "output_type": "stream",
     "text": [
      "Media Inputs Accuracy: 0.976107804233\n",
      "(array([ 0.99037957,  0.72960725]), array([ 0.98443884,  0.81450253]), array([ 0.98740027,  0.76972112]), array([11503,   593]))\n",
      "Navigation Accuracy: 0.984292328042\n",
      "(array([ 0.99081622,  0.95800416]), array([ 0.98959085,  0.96280819]), array([ 0.99020316,  0.96040017]), array([9703, 2393]))\n",
      "APPs Accuracy: 0.989417989418\n",
      "(array([ 0.99326657,  0.90234375]), array([ 0.99567324,  0.85555556]), array([ 0.99446845,  0.878327  ]), array([11556,   540]))\n",
      "Sound Quality Accuracy: 0.972470238095\n",
      "(array([ 0.98510079,  0.76239067]), array([ 0.98570552,  0.75468975]), array([ 0.98540306,  0.75852067]), array([11403,   693]))\n",
      "Audio System Accuracy: 0.960648148148\n",
      "(array([ 0.9770638 ,  0.79801623]), array([ 0.97956018,  0.77836412]), array([ 0.9783104 ,  0.78806768]), array([10959,  1137]))\n",
      "Bluetooth Accuracy: 0.969246031746\n",
      "(array([ 0.97846339,  0.92569806]), array([ 0.98418136,  0.9009673 ]), array([ 0.98131404,  0.91316527]), array([9925, 2171]))\n",
      "Voice Recognition Accuracy: 0.978174603175\n",
      "(array([ 0.98867539,  0.89266818]), array([ 0.98684332,  0.90636992]), array([ 0.98775851,  0.89946687]), array([10793,  1303]))\n",
      "Audio Controls Accuracy: 0.967013888889\n",
      "(array([ 0.98313296,  0.77789474]), array([ 0.98110843,  0.79719525]), array([ 0.98211965,  0.78742674]), array([11169,   927]))\n",
      "Connectivity Accuracy: 1.0\n",
      "(array([ 1.,  1.]), array([ 1.,  1.]), array([ 1.,  1.]), array([11876,   220]))\n",
      "Technology Accuracy: 0.990327380952\n",
      "(array([ 0.99527586,  0.74793388]), array([ 0.99485623,  0.76371308]), array([ 0.995066  ,  0.75574113]), array([11859,   237]))\n",
      "Entertainment System Accuracy: 0.995949074074\n",
      "(array([ 0.99742311,  0.72727273]), array([ 0.99850212,  0.60759494]), array([ 0.99796232,  0.66206897]), array([12017,    79]))\n",
      "Telematics Accuracy: 0.986441798942\n",
      "(array([ 0.99302521,  0.58673469]), array([ 0.99319213,  0.58080808]), array([ 0.99310866,  0.58375635]), array([11898,   198]))\n",
      "Accident Avoidance Accuracy: 0.972718253968\n",
      "(array([ 0.98281438,  0.88688138]), array([ 0.98664317,  0.85855513]), array([ 0.98472505,  0.87248841]), array([10781,  1315]))\n",
      "Headlamps Accuracy: 0.994957010582\n",
      "(array([ 0.99731791,  0.82424242]), array([ 0.99756875,  0.80952381]), array([ 0.99744331,  0.81681682]), array([11928,   168]))\n",
      "Cruise Control Accuracy: 0.999255952381\n",
      "(array([ 0.99975124,  0.83333333]), array([ 0.99950261,  0.90909091]), array([ 0.99962691,  0.86956522]), array([12063,    33]))\n",
      "Downloads Accuracy: 0.99644510582\n",
      "(array([ 0.99850722,  0.34210526]), array([ 0.99792789,  0.41935484]), array([ 0.99821747,  0.37681159]), array([12065,    31]))\n",
      "Safety Accuracy: 0.997602513228\n",
      "(array([ 0.9988079 ,  0.95738636]), array([ 0.99872286,  0.96011396]), array([ 0.99876538,  0.95874822]), array([11745,   351]))\n",
      "Garage Door Opener Accuracy: 0.999503968254\n",
      "(array([ 0.99991725,  0.58333333]), array([ 0.99958637,  0.875     ]), array([ 0.99975178,  0.7       ]), array([12088,     8]))\n",
      "Visibility Accuracy: 0.977182539683\n",
      "(array([ 0.9858871 ,  0.95265152]), array([ 0.98324397,  0.95992366]), array([ 0.98456376,  0.95627376]), array([8952, 3144]))\n",
      "Heads Up Display Accuracy: 0.998098544974\n",
      "(array([ 0.99875653,  0.75757576]), array([ 0.99933643,  0.625     ]), array([ 0.99904639,  0.68493151]), array([12056,    40]))\n",
      "Subscription Accuracy: 0.998263888889\n",
      "(array([ 0.99908986,  0.        ]), array([ 0.99917253,  0.        ]), array([ 0.99913119,  0.        ]), array([12085,    11]))\n",
      "Meter Accuracy: 0.997933201058\n",
      "(array([ 0.99917129,  0.48275862]), array([ 0.99875746,  0.58333333]), array([ 0.99896433,  0.52830189]), array([12072,    24]))\n",
      "Customization Accuracy: 0.999834656085\n",
      "(array([ 0.99983466,  0.        ]), array([ 1.,  0.]), array([ 0.99991732,  0.        ]), array([12094,     2]))\n"
     ]
    },
    {
     "name": "stderr",
     "output_type": "stream",
     "text": [
      "/usr/local/lib/python2.7/dist-packages/sklearn/metrics/classification.py:1074: UndefinedMetricWarning: Precision and F-score are ill-defined and being set to 0.0 in labels with no predicted samples.\n",
      "  'precision', 'predicted', average, warn_for)\n"
     ]
    },
    {
     "name": "stdout",
     "output_type": "stream",
     "text": [
      "Distractions Accuracy: 0.997767857143\n",
      "(array([ 0.99925472,  0.1       ]), array([ 0.99851055,  0.18181818]), array([ 0.9988825 ,  0.12903226]), array([12085,    11]))\n",
      "Air Bags Accuracy: 0.996114417989\n",
      "(array([ 0.99801028,  0.32352941]), array([ 0.99809303,  0.31428571]), array([ 0.99805165,  0.31884058]), array([12061,    35]))\n",
      "Steering Wheel Accuracy: 0.999586640212\n",
      "(array([ 0.99983459,  0.4       ]), array([ 0.9997519,  0.5      ]), array([ 0.99979324,  0.44444444]), array([12092,     4]))\n",
      "Ergonomics Accuracy: 0.999586640212\n",
      "(array([ 0.99966928,  0.        ]), array([ 0.9999173,  0.       ]), array([ 0.99979328,  0.        ]), array([12092,     4]))\n",
      "Consumer Reports Accuracy: 0.999834656085\n",
      "(array([ 0.99983466,  0.        ]), array([ 1.,  0.]), array([ 0.99991732,  0.        ]), array([12094,     2]))\n",
      "Seat Accuracy: 0.999503968254\n",
      "(array([ 0.99991725,  0.58333333]), array([ 0.99958637,  0.875     ]), array([ 0.99975178,  0.7       ]), array([12088,     8]))\n",
      "Driving Position Accuracy: 0.999421296296\n",
      "(array([ 0.99950389,  0.5       ]), array([ 0.99991728,  0.14285714]), array([ 0.99971054,  0.22222222]), array([12089,     7]))\n",
      "Mirrors Accuracy: 0.98685515873\n",
      "(array([ 0.99489069,  0.37579618]), array([ 0.99181697,  0.49166667]), array([ 0.99335145,  0.42599278]), array([11976,   120]))\n",
      "Wipers Accuracy: 0.997437169312\n",
      "(array([ 0.99857239,  0.92553191]), array([ 0.99882402,  0.91099476]), array([ 0.99869819,  0.9182058 ]), array([11905,   191]))\n",
      "AWD Accuracy: 0.999090608466\n",
      "(array([ 0.99942106,  0.2       ]), array([ 0.99966909,  0.125     ]), array([ 0.99954506,  0.15384615]), array([12088,     8]))\n",
      "Sun Visor Accuracy: 0.998759920635\n",
      "(array([ 0.99966857,  0.59259259]), array([ 0.9990891,  0.8      ]), array([ 0.99937875,  0.68085106]), array([12076,    20]))\n",
      "Tinted Windows Accuracy: 0.998511904762\n",
      "(array([ 0.99925515,  0.30769231]), array([ 0.99925515,  0.30769231]), array([ 0.99925515,  0.30769231]), array([12083,    13]))\n",
      "ABS Accuracy: 0.999834656085\n",
      "(array([ 0.99983466,  0.        ]), array([ 1.,  0.]), array([ 0.99991732,  0.        ]), array([12094,     2]))\n",
      "Sunroof Accuracy: 0.999338624339\n",
      "(array([ 0.99958654,  0.        ]), array([ 0.99975188,  0.        ]), array([ 0.9996692,  0.       ]), array([12091,     5]))\n",
      "Amenities Accuracy: 0.927744708995\n",
      "(array([ 0.94511806,  0.8671121 ]), array([ 0.96127218,  0.81907433]), array([ 0.95312668,  0.84240894]), array([9244, 2852]))\n",
      "IT Accuracy: 0.967179232804\n",
      "(array([ 0.96786042,  0.966379  ]), array([ 0.97127937,  0.96239928]), array([ 0.96956688,  0.96438504]), array([6511, 5585]))\n",
      "User Friendliness Accuracy: 0.967179232804\n",
      "(array([ 0.98128749,  0.79719525]), array([ 0.98313599,  0.77953586]), array([ 0.98221087,  0.78826667]), array([11148,   948]))\n",
      "ITS Accuracy: 0.967840608466\n",
      "(array([ 0.97540199,  0.91990291]), array([ 0.98721302,  0.85504794]), array([ 0.98127197,  0.88629056]), array([10323,  1773]))\n",
      "EODO Accuracy: 0.977430555556\n",
      "(array([ 0.98730052,  0.94996873]), array([ 0.98211291,  0.96413837]), array([ 0.98469988,  0.9570011 ]), array([8945, 3151]))\n"
     ]
    }
   ],
   "source": [
    "classifiers=[]\n",
    "cols=dataset.columns.values\n",
    "for c in cols[1:]:\n",
    "    y=dataset[c].values\n",
    "    Xtrain, Xtest, ytrain, ytest=train_test_split(sparseTrainingLsi,y,test_size=.5,stratify=y)\n",
    "    classifier=LinearSVC(C=8.5)\n",
    "    classifier.fit(Xtrain,ytrain)\n",
    "    print(\"{} Accuracy: {}\".format(c,classifier.score(Xtest,ytest)))\n",
    "    print(precision_recall_fscore_support(ytest, classifier.predict(Xtest)))\n",
    "    classifiers.append((c,classifier))"
   ]
  },
  {
   "cell_type": "markdown",
   "metadata": {},
   "source": [
    "Label the allitverbatims.csv file with the newly trained classifiers"
   ]
  },
  {
   "cell_type": "code",
   "execution_count": 13,
   "metadata": {
    "collapsed": true
   },
   "outputs": [],
   "source": [
    "#convert allitverbatims corpus into vectors\n",
    "corpusLsi = lsi[fullCorpus]\n",
    "sparseLsi=matutils.corpus2csc(corpusLsi).transpose()"
   ]
  },
  {
   "cell_type": "code",
   "execution_count": 14,
   "metadata": {
    "collapsed": false
   },
   "outputs": [],
   "source": [
    "labels=np.zeros((sparseLsi.shape[0]))\n",
    "for c, classifier in classifiers:\n",
    "    ypred=classifier.predict(sparseLsi)\n",
    "    labels=np.column_stack((labels,ypred))"
   ]
  },
  {
   "cell_type": "code",
   "execution_count": 15,
   "metadata": {
    "collapsed": false
   },
   "outputs": [],
   "source": [
    "catList=[]\n",
    "for i in range(labels.shape[0]):\n",
    "    l=[]\n",
    "    for j in range(len(cols)):\n",
    "        if labels[i,j]==1:\n",
    "            l.append(cols[j])\n",
    "    catList.append(l)"
   ]
  },
  {
   "cell_type": "code",
   "execution_count": 16,
   "metadata": {
    "collapsed": false
   },
   "outputs": [
    {
     "name": "stdout",
     "output_type": "stream",
     "text": [
      "('I DON T REALLY LIKE THE BUTTON/KNOB LAYOUT ON THE CENTER CONSOLE ', [])\n",
      "('  CD PLAYER ', ['Audio System', 'Amenities'])\n",
      "(' A PILLAR IS HARD TO SEE AROUND AT AN INTERSECTION', ['Navigation', 'Amenities'])\n",
      "(' A PILLARS OBSTRUCT SIDE VIEW A LITTLE TOO MUCH', ['EODO'])\n",
      "(' AUTOMATIC HIGH/LOW BEAMS', [])\n",
      "(' BETTER VOICE CONTROL ONLINE NAVIGATION MAP UPDATES HAVING 4G INSTEAD OF 3G ', ['Navigation', 'Voice Recognition', 'Telematics', 'IT'])\n",
      "(' CAR NEXT TO YOU LIGHT ON SIDE MIRROR HELPS WITH SIDE BLIND SPOTS', ['Visibility', 'EODO'])\n",
      "(' CONNECTED APPLICATIONS RUNNING ON THE PHONE ARE NOT PRACTICAL IT SHOULD NOT BE REQUIRED TO KEEP THE APPLICATION IN THE FOREGROUND ON THE PHONE WHY CAN T THE CAR READ RECEIVED TEXT OR ALLOW ME TO DICTATE NEW TEXTS? THIS SEEMS LIKE A MUST HAVE ', ['Bluetooth', 'IT'])\n",
      "(' FUN FACTOR', [])\n",
      "(' GOOD I VE BEEN TOLD BY FAMILY AND FRIENDS THE BACK SEATS GIVE THEM GOOD VISIBILITY OF THE OUTSIDE ', ['Visibility', 'EODO'])\n",
      "(' JERKY SHIFTING', [])\n",
      "(' NAVIGATION W/ TRAFFIC IS NOT OPTIMAL AND GENERALLY INACCURATE COMPARED TO GOOGLE MAPS ON MY PHONE SUGGEST USE GOOGLE MAPS FOR NAVIGATION IPHONE CAN ONLY BE USED WITH EITHER USB OR BLUETOOTH THERE SHOULD BE AUTOMATIC SWITCH BETWEEN THE 2 ', ['Navigation', 'APPs', 'Bluetooth', 'Amenities', 'IT'])\n",
      "(' REAL 4WD', [])\n",
      "(' REAR WINDSHIELD COULD HAVE BEEN BIGGER/LARGER', ['EODO'])\n",
      "(' STEERING WHEEL CONTROLS NEED A NEXT/BACK BUTTON FOR AUDIO CONTROLS SOUND QUALITY TO AND FROM THE HANDS FREE CALLING COULD USE A LITTLE MORE CLARITY BOTH IN THE CAR AND FROM THE CAR TO THE OTHER LINE POWER OUTLETS 12V AND USB SHOULD ', ['Bluetooth', 'Audio Controls', 'Amenities'])\n",
      "(' SUN VISOR PULLS DOWN AT A WEIRD ANGLE HARD TO SEE OTHER CARS FROM DRIVER SEAT WHEN LOOKING RIGHT', [])\n",
      "(' TANK FEELING', [])\n",
      "(' THE NAVIGATION SYSTEM OFTEN DRIVES ME THROUGH LONGER ROUTES THAN EXPECTED THE NAVIGATION SYSTEM OFTEN DRIVES ME THROUGH LOCAL ROADS INSTEAD OF HIGHWAYS THE NAVIGATION SYSTEM DOES NOT HAVE A GOOD TRAFFIC INFORMATION SYSTEM REALLY SMALL COVER ', ['Media Inputs', 'Navigation', 'Technology', 'IT'])\n",
      "(' THE SOUND QUALITY OF THE BURMESTER HIGH END SYSTEM!', ['Sound Quality', 'Amenities'])\n",
      "(' THIS IS MY SECOND 435I MY FIRST WAS TOTALED AND THE ARE SAFETY AND STABILITY SAVED MY LIFE SO I BOUGHT THE SAME CAR', ['Safety', 'ITS'])\n"
     ]
    }
   ],
   "source": [
    "for k in range(20):\n",
    "    print(fullDocuments[k],catList[k])"
   ]
  },
  {
   "cell_type": "code",
   "execution_count": null,
   "metadata": {
    "collapsed": false
   },
   "outputs": [],
   "source": [
    "a=zip(fullDocuments[:10],catList[:10])\n",
    "\n",
    "r=[[j for j in i] for i in a]"
   ]
  },
  {
   "cell_type": "code",
   "execution_count": null,
   "metadata": {
    "collapsed": false
   },
   "outputs": [],
   "source": [
    "with open(\"results/outputtest.csv\", \"wb\") as f:\n",
    "    writer = csv.writer(f, dialect='excel', delimiter='\\r')\n",
    "    writer.writerow(np.transpose(r).tolist())"
   ]
  },
  {
   "cell_type": "code",
   "execution_count": null,
   "metadata": {
    "collapsed": true
   },
   "outputs": [],
   "source": []
  }
 ],
 "metadata": {
  "kernelspec": {
   "display_name": "Python 2",
   "language": "python",
   "name": "python2"
  },
  "language_info": {
   "codemirror_mode": {
    "name": "ipython",
    "version": 2
   },
   "file_extension": ".py",
   "mimetype": "text/x-python",
   "name": "python",
   "nbconvert_exporter": "python",
   "pygments_lexer": "ipython2",
   "version": "2.7.6"
  }
 },
 "nbformat": 4,
 "nbformat_minor": 0
}
