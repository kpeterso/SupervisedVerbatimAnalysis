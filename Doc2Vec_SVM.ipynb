{
 "cells": [
  {
   "cell_type": "code",
   "execution_count": 2,
   "metadata": {
    "collapsed": true
   },
   "outputs": [],
   "source": [
    "import gensim\n",
    "import numpy as np\n",
    "import pandas as pd\n",
    "from sklearn.preprocessing import MultiLabelBinarizer\n",
    "from sklearn.svm import SVC\n",
    "from sklearn.svm import LinearSVC\n",
    "from sklearn.ensemble import RandomForestClassifier\n",
    "from sklearn.multiclass import OneVsRestClassifier, OneVsOneClassifier\n",
    "from sklearn.cross_validation import train_test_split\n",
    "from sklearn.discriminant_analysis import LinearDiscriminantAnalysis\n",
    "from sklearn.linear_model import LogisticRegression\n",
    "from sklearn.naive_bayes import GaussianNB\n",
    "from sklearn.metrics import precision_recall_fscore_support"
   ]
  },
  {
   "cell_type": "code",
   "execution_count": 3,
   "metadata": {
    "collapsed": false
   },
   "outputs": [],
   "source": [
    "documents=gensim.models.doc2vec.TaggedLineDocument('Data/itcomments.txt')"
   ]
  },
  {
   "cell_type": "code",
   "execution_count": 15,
   "metadata": {
    "collapsed": true
   },
   "outputs": [],
   "source": [
    "model = gensim.models.Doc2Vec(documents, size=200, window=8, workers=4, min_count=3, iter=10)\n",
    "#size=100,window=8,min_count=3 SVC(kernal=linear) Acc ~ 7%\n",
    "#size=200,window=8,min_count=3 SVC(kernal=linear) Acc ~ 7.5%\n",
    "#size=200,window=8,min_count=3 SVC(kernal=linear) Acc ~ 8%"
   ]
  },
  {
   "cell_type": "code",
   "execution_count": 16,
   "metadata": {
    "collapsed": false
   },
   "outputs": [
    {
     "data": {
      "text/plain": [
       "[(u'BLUTOOTH', 0.726509153842926),\n",
       " (u'INTERNET', 0.6158711910247803),\n",
       " (u'USB', 0.45720401406288147),\n",
       " (u'HANDSFREE', 0.44516488909721375),\n",
       " (u'WIFI', 0.44510382413864136),\n",
       " (u'SERVICE', 0.4282341003417969),\n",
       " (u'CELLULAR', 0.42741823196411133),\n",
       " (u'ONSTAR', 0.4227968156337738),\n",
       " (u'IPOD', 0.4140186607837677),\n",
       " (u'CHARGING', 0.4032343029975891)]"
      ]
     },
     "execution_count": 16,
     "metadata": {},
     "output_type": "execute_result"
    }
   ],
   "source": [
    "model.most_similar('BLUETOOTH')"
   ]
  },
  {
   "cell_type": "code",
   "execution_count": 17,
   "metadata": {
    "collapsed": false
   },
   "outputs": [
    {
     "name": "stdout",
     "output_type": "stream",
     "text": [
      "24192\n"
     ]
    }
   ],
   "source": [
    "vecList=[]\n",
    "for i in xrange(len(model.docvecs)):\n",
    "    vecList.append(model.docvecs[i])\n",
    "    \n",
    "a=np.asarray(vecList)\n",
    "print(len(a))"
   ]
  },
  {
   "cell_type": "code",
   "execution_count": 18,
   "metadata": {
    "collapsed": false
   },
   "outputs": [
    {
     "name": "stdout",
     "output_type": "stream",
     "text": [
      "[['Media Inputs', 'Amenities', 'IT'], ['Navigation', 'IT']]\n",
      "[[0 0 0 0 0 1 0 0 0 0 0 0 0 0 0 0 0 0 0 0 0 0 1 0 1 0 0 0 0 0 0 0 0 0 0 0 0\n",
      "  0 0 0 0 0 0]\n",
      " [0 0 0 0 0 0 0 0 0 0 0 0 0 0 0 0 0 0 0 0 0 0 1 0 0 0 0 1 0 0 0 0 0 0 0 0 0\n",
      "  0 0 0 0 0 0]]\n"
     ]
    }
   ],
   "source": [
    "dataset=pd.read_csv(\"IT comments.csv\")\n",
    "col=dataset.columns.values\n",
    "catList=[]\n",
    "data=dataset.values\n",
    "for i in range(24192):\n",
    "    l=[]\n",
    "    for j in range(len(col)):\n",
    "        if data[i,j]==1:\n",
    "            l.append(col[j])\n",
    "    catList.append(l)\n",
    "print(catList[0:2])\n",
    "m=MultiLabelBinarizer()\n",
    "y=m.fit_transform(catList)\n",
    "print(y[:2])"
   ]
  },
  {
   "cell_type": "code",
   "execution_count": 47,
   "metadata": {
    "collapsed": false
   },
   "outputs": [
    {
     "name": "stderr",
     "output_type": "stream",
     "text": [
      "/usr/local/lib/python2.7/dist-packages/sklearn/metrics/classification.py:1074: UndefinedMetricWarning: Precision and F-score are ill-defined and being set to 0.0 in labels with no predicted samples.\n",
      "  'precision', 'predicted', average, warn_for)\n"
     ]
    },
    {
     "data": {
      "text/plain": [
       "(array([ 0.99710648,  0.        ]),\n",
       " array([ 1.,  0.]),\n",
       " array([ 0.99855114,  0.        ]),\n",
       " array([24122,    70]))"
      ]
     },
     "execution_count": 47,
     "metadata": {},
     "output_type": "execute_result"
    }
   ],
   "source": [
    "y=dataset[\"Air Bags\"].values\n",
    "Xtrain, Xtest, ytrain, ytest=train_test_split(a,y,test_size=.66)\n",
    "classifier = OneVsRestClassifier(LogisticRegression())\n",
    "classifier.fit(Xtrain,ytrain)\n",
    "precision_recall_fscore_support(y, classifier.predict(a))"
   ]
  },
  {
   "cell_type": "code",
   "execution_count": 44,
   "metadata": {
    "collapsed": false
   },
   "outputs": [
    {
     "name": "stdout",
     "output_type": "stream",
     "text": [
      "0.76413853573\n"
     ]
    }
   ],
   "source": [
    "print(classifier.score(Xtest,ytest))\n",
    "#Random Forest ~ 5%\n",
    "#Logistic Regression ~ 17%\n",
    "#LDA ~ 18%\n",
    "#LinearSVC ~ 16%\n",
    "#GaussianNB ~ 9%\n",
    "#SVC ~ 7%"
   ]
  },
  {
   "cell_type": "code",
   "execution_count": null,
   "metadata": {
    "collapsed": true
   },
   "outputs": [],
   "source": []
  }
 ],
 "metadata": {
  "kernelspec": {
   "display_name": "Python 2",
   "language": "python",
   "name": "python2"
  },
  "language_info": {
   "codemirror_mode": {
    "name": "ipython",
    "version": 2
   },
   "file_extension": ".py",
   "mimetype": "text/x-python",
   "name": "python",
   "nbconvert_exporter": "python",
   "pygments_lexer": "ipython2",
   "version": "2.7.6"
  }
 },
 "nbformat": 4,
 "nbformat_minor": 0
}
