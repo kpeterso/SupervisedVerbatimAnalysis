{
 "cells": [
  {
   "cell_type": "code",
   "execution_count": 1,
   "metadata": {
    "collapsed": false
   },
   "outputs": [],
   "source": [
    "import pandas as pd\n",
    "import numpy as np\n",
    "import csv\n",
    "from sklearn.feature_extraction.text import CountVectorizer, TfidfTransformer\n",
    "from sklearn.cross_validation import train_test_split\n",
    "from sklearn.naive_bayes import MultinomialNB\n",
    "from sklearn.linear_model import SGDClassifier\n",
    "from sklearn.preprocessing import MultiLabelBinarizer\n",
    "from sklearn.svm import SVC\n",
    "from sklearn.pipeline import Pipeline\n",
    "from sklearn.multiclass import OneVsRestClassifier, OneVsOneClassifier\n",
    "from sklearn.grid_search import GridSearchCV\n",
    "from sklearn.ensemble import RandomForestClassifier\n",
    "from sklearn.discriminant_analysis import LinearDiscriminantAnalysis"
   ]
  },
  {
   "cell_type": "code",
   "execution_count": 2,
   "metadata": {
    "collapsed": false
   },
   "outputs": [
    {
     "data": {
      "text/html": [
       "<div>\n",
       "<table border=\"1\" class=\"dataframe\">\n",
       "  <thead>\n",
       "    <tr style=\"text-align: right;\">\n",
       "      <th></th>\n",
       "      <th>comment</th>\n",
       "      <th>Media Inputs</th>\n",
       "      <th>Navigation</th>\n",
       "      <th>APPs</th>\n",
       "      <th>Sound Quality</th>\n",
       "      <th>Audio System</th>\n",
       "      <th>Bluetooth</th>\n",
       "      <th>Voice Recognition</th>\n",
       "      <th>Audio Controls</th>\n",
       "      <th>Connectivity</th>\n",
       "      <th>...</th>\n",
       "      <th>AWD</th>\n",
       "      <th>Sun Visor</th>\n",
       "      <th>Tinted Windows</th>\n",
       "      <th>ABS</th>\n",
       "      <th>Sunroof</th>\n",
       "      <th>Amenities</th>\n",
       "      <th>IT</th>\n",
       "      <th>User Friendliness</th>\n",
       "      <th>ITS</th>\n",
       "      <th>EODO</th>\n",
       "    </tr>\n",
       "  </thead>\n",
       "  <tbody>\n",
       "    <tr>\n",
       "      <th>0</th>\n",
       "      <td>I WOULD LIKE TO HAVE A STANDARD PLUG AVAILABLE...</td>\n",
       "      <td>1</td>\n",
       "      <td>0</td>\n",
       "      <td>0</td>\n",
       "      <td>0</td>\n",
       "      <td>0</td>\n",
       "      <td>0</td>\n",
       "      <td>0</td>\n",
       "      <td>0</td>\n",
       "      <td>0</td>\n",
       "      <td>...</td>\n",
       "      <td>0</td>\n",
       "      <td>0</td>\n",
       "      <td>0</td>\n",
       "      <td>0</td>\n",
       "      <td>0</td>\n",
       "      <td>1</td>\n",
       "      <td>1</td>\n",
       "      <td>0</td>\n",
       "      <td>0</td>\n",
       "      <td>0</td>\n",
       "    </tr>\n",
       "    <tr>\n",
       "      <th>1</th>\n",
       "      <td>TO ACTUALLY HAVE A NAVIGATION SYSTEM BUILT IN</td>\n",
       "      <td>0</td>\n",
       "      <td>1</td>\n",
       "      <td>0</td>\n",
       "      <td>0</td>\n",
       "      <td>0</td>\n",
       "      <td>0</td>\n",
       "      <td>0</td>\n",
       "      <td>0</td>\n",
       "      <td>0</td>\n",
       "      <td>...</td>\n",
       "      <td>0</td>\n",
       "      <td>0</td>\n",
       "      <td>0</td>\n",
       "      <td>0</td>\n",
       "      <td>0</td>\n",
       "      <td>0</td>\n",
       "      <td>1</td>\n",
       "      <td>0</td>\n",
       "      <td>0</td>\n",
       "      <td>0</td>\n",
       "    </tr>\n",
       "    <tr>\n",
       "      <th>2</th>\n",
       "      <td>THE NISSAN CONNECT APPS DO NOT WORK WELL AND T...</td>\n",
       "      <td>0</td>\n",
       "      <td>0</td>\n",
       "      <td>1</td>\n",
       "      <td>0</td>\n",
       "      <td>0</td>\n",
       "      <td>0</td>\n",
       "      <td>0</td>\n",
       "      <td>0</td>\n",
       "      <td>0</td>\n",
       "      <td>...</td>\n",
       "      <td>0</td>\n",
       "      <td>0</td>\n",
       "      <td>0</td>\n",
       "      <td>0</td>\n",
       "      <td>0</td>\n",
       "      <td>0</td>\n",
       "      <td>1</td>\n",
       "      <td>0</td>\n",
       "      <td>0</td>\n",
       "      <td>0</td>\n",
       "    </tr>\n",
       "    <tr>\n",
       "      <th>3</th>\n",
       "      <td>THE VEHICLE DOES NOT HAVE A NAVIGATION SYSTEM ...</td>\n",
       "      <td>0</td>\n",
       "      <td>1</td>\n",
       "      <td>0</td>\n",
       "      <td>0</td>\n",
       "      <td>0</td>\n",
       "      <td>0</td>\n",
       "      <td>0</td>\n",
       "      <td>0</td>\n",
       "      <td>0</td>\n",
       "      <td>...</td>\n",
       "      <td>0</td>\n",
       "      <td>0</td>\n",
       "      <td>0</td>\n",
       "      <td>0</td>\n",
       "      <td>0</td>\n",
       "      <td>0</td>\n",
       "      <td>1</td>\n",
       "      <td>0</td>\n",
       "      <td>0</td>\n",
       "      <td>0</td>\n",
       "    </tr>\n",
       "    <tr>\n",
       "      <th>4</th>\n",
       "      <td>BEING ABLE TO TAKE THE BASS OUT OF THE DOOR SP...</td>\n",
       "      <td>0</td>\n",
       "      <td>0</td>\n",
       "      <td>0</td>\n",
       "      <td>1</td>\n",
       "      <td>0</td>\n",
       "      <td>0</td>\n",
       "      <td>0</td>\n",
       "      <td>0</td>\n",
       "      <td>0</td>\n",
       "      <td>...</td>\n",
       "      <td>0</td>\n",
       "      <td>0</td>\n",
       "      <td>0</td>\n",
       "      <td>0</td>\n",
       "      <td>0</td>\n",
       "      <td>1</td>\n",
       "      <td>0</td>\n",
       "      <td>0</td>\n",
       "      <td>0</td>\n",
       "      <td>0</td>\n",
       "    </tr>\n",
       "  </tbody>\n",
       "</table>\n",
       "<p>5 rows × 43 columns</p>\n",
       "</div>"
      ],
      "text/plain": [
       "                                             comment  Media Inputs  \\\n",
       "0  I WOULD LIKE TO HAVE A STANDARD PLUG AVAILABLE...             1   \n",
       "1     TO ACTUALLY HAVE A NAVIGATION SYSTEM BUILT IN              0   \n",
       "2  THE NISSAN CONNECT APPS DO NOT WORK WELL AND T...             0   \n",
       "3  THE VEHICLE DOES NOT HAVE A NAVIGATION SYSTEM ...             0   \n",
       "4  BEING ABLE TO TAKE THE BASS OUT OF THE DOOR SP...             0   \n",
       "\n",
       "   Navigation  APPs  Sound Quality  Audio System  Bluetooth  \\\n",
       "0           0     0              0             0          0   \n",
       "1           1     0              0             0          0   \n",
       "2           0     1              0             0          0   \n",
       "3           1     0              0             0          0   \n",
       "4           0     0              1             0          0   \n",
       "\n",
       "   Voice Recognition  Audio Controls  Connectivity  ...   AWD  Sun Visor  \\\n",
       "0                  0               0             0  ...     0          0   \n",
       "1                  0               0             0  ...     0          0   \n",
       "2                  0               0             0  ...     0          0   \n",
       "3                  0               0             0  ...     0          0   \n",
       "4                  0               0             0  ...     0          0   \n",
       "\n",
       "   Tinted Windows  ABS  Sunroof  Amenities  IT  User Friendliness  ITS  EODO  \n",
       "0               0    0        0          1   1                  0    0     0  \n",
       "1               0    0        0          0   1                  0    0     0  \n",
       "2               0    0        0          0   1                  0    0     0  \n",
       "3               0    0        0          0   1                  0    0     0  \n",
       "4               0    0        0          1   0                  0    0     0  \n",
       "\n",
       "[5 rows x 43 columns]"
      ]
     },
     "execution_count": 2,
     "metadata": {},
     "output_type": "execute_result"
    }
   ],
   "source": [
    "dataset=pd.read_csv(\"Data/ITcomments.csv\")\n",
    "dataset.head()"
   ]
  },
  {
   "cell_type": "code",
   "execution_count": 3,
   "metadata": {
    "collapsed": false
   },
   "outputs": [
    {
     "data": {
      "text/html": [
       "<div>\n",
       "<table border=\"1\" class=\"dataframe\">\n",
       "  <thead>\n",
       "    <tr style=\"text-align: right;\">\n",
       "      <th></th>\n",
       "      <th>Media Inputs</th>\n",
       "      <th>Navigation</th>\n",
       "      <th>APPs</th>\n",
       "      <th>Sound Quality</th>\n",
       "      <th>Audio System</th>\n",
       "      <th>Bluetooth</th>\n",
       "      <th>Voice Recognition</th>\n",
       "      <th>Audio Controls</th>\n",
       "      <th>Connectivity</th>\n",
       "      <th>Technology</th>\n",
       "      <th>...</th>\n",
       "      <th>AWD</th>\n",
       "      <th>Sun Visor</th>\n",
       "      <th>Tinted Windows</th>\n",
       "      <th>ABS</th>\n",
       "      <th>Sunroof</th>\n",
       "      <th>Amenities</th>\n",
       "      <th>IT</th>\n",
       "      <th>User Friendliness</th>\n",
       "      <th>ITS</th>\n",
       "      <th>EODO</th>\n",
       "    </tr>\n",
       "  </thead>\n",
       "  <tbody>\n",
       "    <tr>\n",
       "      <th>count</th>\n",
       "      <td>24191.000000</td>\n",
       "      <td>24191.000000</td>\n",
       "      <td>24191.000000</td>\n",
       "      <td>24191.000000</td>\n",
       "      <td>24191.000000</td>\n",
       "      <td>24191.000000</td>\n",
       "      <td>24191.000000</td>\n",
       "      <td>24191.000000</td>\n",
       "      <td>24191.000000</td>\n",
       "      <td>24191.000000</td>\n",
       "      <td>...</td>\n",
       "      <td>24191.000000</td>\n",
       "      <td>24191.000000</td>\n",
       "      <td>24191.000000</td>\n",
       "      <td>24191.000000</td>\n",
       "      <td>24191.000000</td>\n",
       "      <td>24191.00000</td>\n",
       "      <td>24191.000000</td>\n",
       "      <td>24191.000000</td>\n",
       "      <td>24191.000000</td>\n",
       "      <td>24191.000000</td>\n",
       "    </tr>\n",
       "    <tr>\n",
       "      <th>mean</th>\n",
       "      <td>0.048985</td>\n",
       "      <td>0.197801</td>\n",
       "      <td>0.044603</td>\n",
       "      <td>0.057253</td>\n",
       "      <td>0.093961</td>\n",
       "      <td>0.179488</td>\n",
       "      <td>0.107685</td>\n",
       "      <td>0.076599</td>\n",
       "      <td>0.018189</td>\n",
       "      <td>0.019594</td>\n",
       "      <td>...</td>\n",
       "      <td>0.000661</td>\n",
       "      <td>0.001612</td>\n",
       "      <td>0.001033</td>\n",
       "      <td>0.000165</td>\n",
       "      <td>0.000372</td>\n",
       "      <td>0.23579</td>\n",
       "      <td>0.461701</td>\n",
       "      <td>0.078376</td>\n",
       "      <td>0.146542</td>\n",
       "      <td>0.260469</td>\n",
       "    </tr>\n",
       "    <tr>\n",
       "      <th>std</th>\n",
       "      <td>0.215841</td>\n",
       "      <td>0.398349</td>\n",
       "      <td>0.206436</td>\n",
       "      <td>0.232330</td>\n",
       "      <td>0.291780</td>\n",
       "      <td>0.383769</td>\n",
       "      <td>0.309988</td>\n",
       "      <td>0.265959</td>\n",
       "      <td>0.133636</td>\n",
       "      <td>0.138604</td>\n",
       "      <td>...</td>\n",
       "      <td>0.025710</td>\n",
       "      <td>0.040120</td>\n",
       "      <td>0.032131</td>\n",
       "      <td>0.012858</td>\n",
       "      <td>0.019285</td>\n",
       "      <td>0.42450</td>\n",
       "      <td>0.498541</td>\n",
       "      <td>0.268768</td>\n",
       "      <td>0.353656</td>\n",
       "      <td>0.438899</td>\n",
       "    </tr>\n",
       "    <tr>\n",
       "      <th>min</th>\n",
       "      <td>0.000000</td>\n",
       "      <td>0.000000</td>\n",
       "      <td>0.000000</td>\n",
       "      <td>0.000000</td>\n",
       "      <td>0.000000</td>\n",
       "      <td>0.000000</td>\n",
       "      <td>0.000000</td>\n",
       "      <td>0.000000</td>\n",
       "      <td>0.000000</td>\n",
       "      <td>0.000000</td>\n",
       "      <td>...</td>\n",
       "      <td>0.000000</td>\n",
       "      <td>0.000000</td>\n",
       "      <td>0.000000</td>\n",
       "      <td>0.000000</td>\n",
       "      <td>0.000000</td>\n",
       "      <td>0.00000</td>\n",
       "      <td>0.000000</td>\n",
       "      <td>0.000000</td>\n",
       "      <td>0.000000</td>\n",
       "      <td>0.000000</td>\n",
       "    </tr>\n",
       "    <tr>\n",
       "      <th>25%</th>\n",
       "      <td>0.000000</td>\n",
       "      <td>0.000000</td>\n",
       "      <td>0.000000</td>\n",
       "      <td>0.000000</td>\n",
       "      <td>0.000000</td>\n",
       "      <td>0.000000</td>\n",
       "      <td>0.000000</td>\n",
       "      <td>0.000000</td>\n",
       "      <td>0.000000</td>\n",
       "      <td>0.000000</td>\n",
       "      <td>...</td>\n",
       "      <td>0.000000</td>\n",
       "      <td>0.000000</td>\n",
       "      <td>0.000000</td>\n",
       "      <td>0.000000</td>\n",
       "      <td>0.000000</td>\n",
       "      <td>0.00000</td>\n",
       "      <td>0.000000</td>\n",
       "      <td>0.000000</td>\n",
       "      <td>0.000000</td>\n",
       "      <td>0.000000</td>\n",
       "    </tr>\n",
       "    <tr>\n",
       "      <th>50%</th>\n",
       "      <td>0.000000</td>\n",
       "      <td>0.000000</td>\n",
       "      <td>0.000000</td>\n",
       "      <td>0.000000</td>\n",
       "      <td>0.000000</td>\n",
       "      <td>0.000000</td>\n",
       "      <td>0.000000</td>\n",
       "      <td>0.000000</td>\n",
       "      <td>0.000000</td>\n",
       "      <td>0.000000</td>\n",
       "      <td>...</td>\n",
       "      <td>0.000000</td>\n",
       "      <td>0.000000</td>\n",
       "      <td>0.000000</td>\n",
       "      <td>0.000000</td>\n",
       "      <td>0.000000</td>\n",
       "      <td>0.00000</td>\n",
       "      <td>0.000000</td>\n",
       "      <td>0.000000</td>\n",
       "      <td>0.000000</td>\n",
       "      <td>0.000000</td>\n",
       "    </tr>\n",
       "    <tr>\n",
       "      <th>75%</th>\n",
       "      <td>0.000000</td>\n",
       "      <td>0.000000</td>\n",
       "      <td>0.000000</td>\n",
       "      <td>0.000000</td>\n",
       "      <td>0.000000</td>\n",
       "      <td>0.000000</td>\n",
       "      <td>0.000000</td>\n",
       "      <td>0.000000</td>\n",
       "      <td>0.000000</td>\n",
       "      <td>0.000000</td>\n",
       "      <td>...</td>\n",
       "      <td>0.000000</td>\n",
       "      <td>0.000000</td>\n",
       "      <td>0.000000</td>\n",
       "      <td>0.000000</td>\n",
       "      <td>0.000000</td>\n",
       "      <td>0.00000</td>\n",
       "      <td>1.000000</td>\n",
       "      <td>0.000000</td>\n",
       "      <td>0.000000</td>\n",
       "      <td>1.000000</td>\n",
       "    </tr>\n",
       "    <tr>\n",
       "      <th>max</th>\n",
       "      <td>1.000000</td>\n",
       "      <td>1.000000</td>\n",
       "      <td>1.000000</td>\n",
       "      <td>1.000000</td>\n",
       "      <td>1.000000</td>\n",
       "      <td>1.000000</td>\n",
       "      <td>1.000000</td>\n",
       "      <td>1.000000</td>\n",
       "      <td>1.000000</td>\n",
       "      <td>1.000000</td>\n",
       "      <td>...</td>\n",
       "      <td>1.000000</td>\n",
       "      <td>1.000000</td>\n",
       "      <td>1.000000</td>\n",
       "      <td>1.000000</td>\n",
       "      <td>1.000000</td>\n",
       "      <td>1.00000</td>\n",
       "      <td>1.000000</td>\n",
       "      <td>1.000000</td>\n",
       "      <td>1.000000</td>\n",
       "      <td>1.000000</td>\n",
       "    </tr>\n",
       "  </tbody>\n",
       "</table>\n",
       "<p>8 rows × 42 columns</p>\n",
       "</div>"
      ],
      "text/plain": [
       "       Media Inputs    Navigation          APPs  Sound Quality  Audio System  \\\n",
       "count  24191.000000  24191.000000  24191.000000   24191.000000  24191.000000   \n",
       "mean       0.048985      0.197801      0.044603       0.057253      0.093961   \n",
       "std        0.215841      0.398349      0.206436       0.232330      0.291780   \n",
       "min        0.000000      0.000000      0.000000       0.000000      0.000000   \n",
       "25%        0.000000      0.000000      0.000000       0.000000      0.000000   \n",
       "50%        0.000000      0.000000      0.000000       0.000000      0.000000   \n",
       "75%        0.000000      0.000000      0.000000       0.000000      0.000000   \n",
       "max        1.000000      1.000000      1.000000       1.000000      1.000000   \n",
       "\n",
       "          Bluetooth  Voice Recognition  Audio Controls  Connectivity  \\\n",
       "count  24191.000000       24191.000000    24191.000000  24191.000000   \n",
       "mean       0.179488           0.107685        0.076599      0.018189   \n",
       "std        0.383769           0.309988        0.265959      0.133636   \n",
       "min        0.000000           0.000000        0.000000      0.000000   \n",
       "25%        0.000000           0.000000        0.000000      0.000000   \n",
       "50%        0.000000           0.000000        0.000000      0.000000   \n",
       "75%        0.000000           0.000000        0.000000      0.000000   \n",
       "max        1.000000           1.000000        1.000000      1.000000   \n",
       "\n",
       "         Technology      ...                AWD     Sun Visor  Tinted Windows  \\\n",
       "count  24191.000000      ...       24191.000000  24191.000000    24191.000000   \n",
       "mean       0.019594      ...           0.000661      0.001612        0.001033   \n",
       "std        0.138604      ...           0.025710      0.040120        0.032131   \n",
       "min        0.000000      ...           0.000000      0.000000        0.000000   \n",
       "25%        0.000000      ...           0.000000      0.000000        0.000000   \n",
       "50%        0.000000      ...           0.000000      0.000000        0.000000   \n",
       "75%        0.000000      ...           0.000000      0.000000        0.000000   \n",
       "max        1.000000      ...           1.000000      1.000000        1.000000   \n",
       "\n",
       "                ABS       Sunroof    Amenities            IT  \\\n",
       "count  24191.000000  24191.000000  24191.00000  24191.000000   \n",
       "mean       0.000165      0.000372      0.23579      0.461701   \n",
       "std        0.012858      0.019285      0.42450      0.498541   \n",
       "min        0.000000      0.000000      0.00000      0.000000   \n",
       "25%        0.000000      0.000000      0.00000      0.000000   \n",
       "50%        0.000000      0.000000      0.00000      0.000000   \n",
       "75%        0.000000      0.000000      0.00000      1.000000   \n",
       "max        1.000000      1.000000      1.00000      1.000000   \n",
       "\n",
       "       User Friendliness           ITS          EODO  \n",
       "count       24191.000000  24191.000000  24191.000000  \n",
       "mean            0.078376      0.146542      0.260469  \n",
       "std             0.268768      0.353656      0.438899  \n",
       "min             0.000000      0.000000      0.000000  \n",
       "25%             0.000000      0.000000      0.000000  \n",
       "50%             0.000000      0.000000      0.000000  \n",
       "75%             0.000000      0.000000      1.000000  \n",
       "max             1.000000      1.000000      1.000000  \n",
       "\n",
       "[8 rows x 42 columns]"
      ]
     },
     "execution_count": 3,
     "metadata": {},
     "output_type": "execute_result"
    }
   ],
   "source": [
    "dataset.describe()"
   ]
  },
  {
   "cell_type": "code",
   "execution_count": 25,
   "metadata": {
    "collapsed": false
   },
   "outputs": [
    {
     "name": "stdout",
     "output_type": "stream",
     "text": [
      "[ 'I WOULD LIKE TO HAVE A STANDARD PLUG AVAILABLE THAT WE COULD USE TO PLUG IN MISCELLANEOUS IPAD IPHONE TABLETS ETC '\n",
      " 'TO ACTUALLY HAVE A NAVIGATION SYSTEM BUILT IN '\n",
      " 'THE NISSAN CONNECT APPS DO NOT WORK WELL AND THERE ARE VERY FEW OF THEM IT S ALMOST A POINTLESS FEATURE '\n",
      " 'THE VEHICLE DOES NOT HAVE A NAVIGATION SYSTEM THAT ALMOST SEEMS LIKE IT WOULD BE A STANDARD ITEM '\n",
      " 'BEING ABLE TO TAKE THE BASS OUT OF THE DOOR SPEAKERS SINCE HAVING BASS GOING THROUGH THEM IS NOT GOOD FOR THE SPEAKER AND ALSO ADDS DISTORTION TO OVERALL SOUND QUALITY MY TRUCK HAS A SUBWOOFER BUT I HAVE NO OPTION TO TURN THE SUBWOOFER UP/DOWN '\n",
      " 'WHEN I BOUGHT THIS TRUCK ALL I WANTED WAS A BASIC RADIO AND MAYBE 1 CD PLAYER I DID NOT WANT NOR NEED ALL OF THE BLUE TOOTH STUFF JUST WANT TO HEAR A LITTLE MUSIC I REALLY HATED PAYING FOR ALL OF THAT EXTRA COMPUTER STUFF WHEN ALL I NEEDED '\n",
      " 'I TRULY DON T KNOW I LISTEN TO THE RADIO BUT DON T USE A CELL PHONE OR ANY ELECTRONIC GIZMOS WHILE IN THE CAR '\n",
      " 'THE SOUND QUALITY COULD BE IMPROVED ' 'VOICE RECOGNITION WORKS VERY WELL'\n",
      " 'CAR APP COULD WORK MORE EASILY SOMETIMES LOADS AND SOMETIMES WILL NOT GOOGLE APP WILL NOT WORK ']\n"
     ]
    }
   ],
   "source": [
    "commentVector=dataset[\"comment\"].values\n",
    "print(commentVector[:10])\n",
    "textPipe=Pipeline([('vect',CountVectorizer(stop_words='english')),\n",
    "                   ('tfidf',TfidfTransformer()),\n",
    "                   ('clf',MultinomialNB())])"
   ]
  },
  {
   "cell_type": "code",
   "execution_count": 26,
   "metadata": {
    "collapsed": true
   },
   "outputs": [],
   "source": [
    "def balanced_subsample(x,y,subsample_size=1.0):\n",
    "\n",
    "    class_xs = []\n",
    "    min_elems = None\n",
    "\n",
    "    for yi in np.unique(y):\n",
    "        elems = x[(y == yi)]\n",
    "        class_xs.append((yi, elems))\n",
    "        if min_elems == None or elems.shape[0] < min_elems:\n",
    "            min_elems = elems.shape[0]\n",
    "\n",
    "    use_elems = min_elems\n",
    "    if subsample_size < 1:\n",
    "        use_elems = int(min_elems*subsample_size)\n",
    "\n",
    "    xs = []\n",
    "    ys = []\n",
    "    \n",
    "    xtest=[]\n",
    "    ytest=[]\n",
    "\n",
    "    for ci,this_xs in class_xs:\n",
    "        if len(this_xs) > use_elems:\n",
    "            np.random.shuffle(this_xs)\n",
    "\n",
    "        x_ = this_xs[:use_elems]\n",
    "        y_ = np.empty(use_elems)\n",
    "        y_.fill(ci)\n",
    "        \n",
    "        xs.append(x_)\n",
    "        ys.append(y_)\n",
    "        \n",
    "        x_ = this_xs[use_elems:]\n",
    "        y_ = np.empty(len(x_))\n",
    "        y_.fill(ci)\n",
    "        \n",
    "        xtest.append(x_)\n",
    "        ytest.append(y_)\n",
    "\n",
    "    xs = np.concatenate(xs)\n",
    "    ys = np.concatenate(ys)\n",
    "    \n",
    "    xtest = np.concatenate(xtest)\n",
    "    ytest = np.concatenate(ytest)\n",
    "    \n",
    "    return xs,xtest,ys,ytest"
   ]
  },
  {
   "cell_type": "code",
   "execution_count": 27,
   "metadata": {
    "collapsed": false
   },
   "outputs": [
    {
     "name": "stdout",
     "output_type": "stream",
     "text": [
      "0.872535534159\n"
     ]
    }
   ],
   "source": [
    "#train Amenities classifier\n",
    "y=dataset[\"Amenities\"].values\n",
    "commentTrain,commentTest,ytrain,ytest=balanced_subsample(commentVector,y,.4)\n",
    "textPipe = textPipe.fit(commentTrain,ytrain)\n",
    "print(textPipe.score(commentTest,ytest))"
   ]
  },
  {
   "cell_type": "code",
   "execution_count": 28,
   "metadata": {
    "collapsed": false
   },
   "outputs": [
    {
     "name": "stdout",
     "output_type": "stream",
     "text": [
      "0.88092738807\n"
     ]
    }
   ],
   "source": [
    "#test with SVM classifier\n",
    "commentTrain,commentTest,ytrain,ytest=balanced_subsample(commentVector,y,.2)\n",
    "textPipe2=Pipeline([('vect',CountVectorizer(stop_words='english')),\n",
    "                   ('tfidf',TfidfTransformer()),\n",
    "                   ('clf',SGDClassifier(loss='hinge',penalty='l2',alpha=1e-3,n_iter=5))])\n",
    "textPipe = textPipe.fit(commentTrain,ytrain)\n",
    "print(textPipe.score(commentTest,ytest))"
   ]
  },
  {
   "cell_type": "code",
   "execution_count": 29,
   "metadata": {
    "collapsed": false
   },
   "outputs": [
    {
     "name": "stdout",
     "output_type": "stream",
     "text": [
      "0.921368821293\n"
     ]
    }
   ],
   "source": [
    "#train IT classifier\n",
    "y=dataset[\"IT\"].values\n",
    "commentTrain,commentTest,ytrain,ytest=balanced_subsample(commentVector,y,.2)\n",
    "textPipe = textPipe.fit(commentTrain,ytrain)\n",
    "print(textPipe.score(commentTest,ytest))"
   ]
  },
  {
   "cell_type": "code",
   "execution_count": 30,
   "metadata": {
    "collapsed": false
   },
   "outputs": [
    {
     "name": "stdout",
     "output_type": "stream",
     "text": [
      "0.805382372729\n"
     ]
    }
   ],
   "source": [
    "#train User Friendliness classifier\n",
    "y=dataset[\"User Friendliness\"].values\n",
    "commentTrain,commentTest,ytrain,ytest=balanced_subsample(commentVector,y,.5)\n",
    "textPipe = textPipe.fit(commentTrain,ytrain)\n",
    "print(textPipe.score(commentTest,ytest))"
   ]
  },
  {
   "cell_type": "code",
   "execution_count": 31,
   "metadata": {
    "collapsed": false
   },
   "outputs": [
    {
     "name": "stdout",
     "output_type": "stream",
     "text": [
      "0.796809951347\n"
     ]
    }
   ],
   "source": [
    "#train ITS classifier\n",
    "y=dataset[\"ITS\"].values\n",
    "commentTrain,commentTest,ytrain,ytest=balanced_subsample(commentVector,y,.6)\n",
    "textPipe = textPipe.fit(commentTrain,ytrain)\n",
    "print(textPipe.score(commentTest,ytest))"
   ]
  },
  {
   "cell_type": "code",
   "execution_count": 32,
   "metadata": {
    "collapsed": false
   },
   "outputs": [
    {
     "name": "stdout",
     "output_type": "stream",
     "text": [
      "0.909563467665\n"
     ]
    }
   ],
   "source": [
    "#train EODO classifier\n",
    "y=dataset[\"EODO\"].values\n",
    "commentTrain,commentTest,ytrain,ytest=balanced_subsample(commentVector,y,.5)\n",
    "textPipe = textPipe.fit(commentTrain,ytrain)\n",
    "print(textPipe.score(commentTest,ytest))"
   ]
  },
  {
   "cell_type": "code",
   "execution_count": 33,
   "metadata": {
    "collapsed": false
   },
   "outputs": [
    {
     "name": "stdout",
     "output_type": "stream",
     "text": [
      "[ 0.  0.]\n"
     ]
    }
   ],
   "source": [
    "rComments=[\"USB PORT STANDARD ON ALL MODELS ESPECIALLY ONE PLACED IN THE CONSOLE IMPROVING THE RADIO DISPLAY AND PHONE SOUND QUALITY\",\"CONNECTIVITY WITH IPHONE IS INTERMITTENT WITH BLUETOOTH AND SPEAKERS ARE UNACCEPTABLE SPEAKERS SHOULD BE HIGHER QUALITY FOR THE PRICE OF THE VEHICLE\"]\n",
    "b = textPipe.predict(rComments)\n",
    "print(b)"
   ]
  },
  {
   "cell_type": "code",
   "execution_count": 34,
   "metadata": {
    "collapsed": false
   },
   "outputs": [
    {
     "name": "stdout",
     "output_type": "stream",
     "text": [
      "0.830267429278\n"
     ]
    }
   ],
   "source": [
    "#train Navigation classifier\n",
    "y=dataset[\"Navigation\"].values\n",
    "commentTrain,commentTest,ytrain,ytest=balanced_subsample(commentVector,y,.50)\n",
    "textPipe = textPipe.fit(commentTrain,ytrain)\n",
    "print(textPipe.score(commentTest,ytest))"
   ]
  },
  {
   "cell_type": "code",
   "execution_count": 35,
   "metadata": {
    "collapsed": false
   },
   "outputs": [
    {
     "name": "stdout",
     "output_type": "stream",
     "text": [
      "0.800603729893\n"
     ]
    }
   ],
   "source": [
    "#train Navigation classifier\n",
    "y=dataset[\"Sunroof\"].values\n",
    "commentTrain,commentTest,ytrain,ytest=balanced_subsample(commentVector,y,.50)\n",
    "textPipe = textPipe.fit(commentTrain,ytrain)\n",
    "print(textPipe.score(commentTest,ytest))"
   ]
  },
  {
   "cell_type": "code",
   "execution_count": 37,
   "metadata": {
    "collapsed": false
   },
   "outputs": [
    {
     "name": "stdout",
     "output_type": "stream",
     "text": [
      "[['Media Inputs', 'Amenities', 'IT'], ['Navigation', 'IT'], ['APPs', 'IT'], ['Navigation', 'IT'], ['Sound Quality', 'Amenities'], ['Audio System', 'Amenities'], ['Bluetooth', 'IT'], ['Sound Quality', 'Amenities'], ['Voice Recognition', 'IT'], ['APPs', 'IT']]\n"
     ]
    }
   ],
   "source": [
    "#ynew=dataset.drop([\"Consumer Reports\"],1)\n",
    "col=dataset.columns.values\n",
    "catList=[]\n",
    "data=dataset.values\n",
    "for i in range(24191):\n",
    "    l=[]\n",
    "    for j in range(len(col)):\n",
    "        if data[i,j]==1:\n",
    "            l.append(col[j])\n",
    "    catList.append(l)\n",
    "print(catList[0:10])"
   ]
  },
  {
   "cell_type": "code",
   "execution_count": 38,
   "metadata": {
    "collapsed": false
   },
   "outputs": [
    {
     "name": "stdout",
     "output_type": "stream",
     "text": [
      "[[0 0 0 0 0 1 0 0 0 0 0 0 0 0 0 0 0 0 0 0 0 0 1 0 1 0 0 0 0 0 0 0 0 0 0 0 0\n",
      "  0 0 0 0 0]\n",
      " [0 0 0 0 0 0 0 0 0 0 0 0 0 0 0 0 0 0 0 0 0 0 1 0 0 0 0 1 0 0 0 0 0 0 0 0 0\n",
      "  0 0 0 0 0]\n",
      " [0 1 0 0 0 0 0 0 0 0 0 0 0 0 0 0 0 0 0 0 0 0 1 0 0 0 0 0 0 0 0 0 0 0 0 0 0\n",
      "  0 0 0 0 0]\n",
      " [0 0 0 0 0 0 0 0 0 0 0 0 0 0 0 0 0 0 0 0 0 0 1 0 0 0 0 1 0 0 0 0 0 0 0 0 0\n",
      "  0 0 0 0 0]\n",
      " [0 0 0 0 0 1 0 0 0 0 0 0 0 0 0 0 0 0 0 0 0 0 0 0 0 0 0 0 0 0 1 0 0 0 0 0 0\n",
      "  0 0 0 0 0]]\n"
     ]
    }
   ],
   "source": [
    "m=MultiLabelBinarizer()\n",
    "d=m.fit_transform(catList)\n",
    "print(d[:5])"
   ]
  },
  {
   "cell_type": "code",
   "execution_count": 39,
   "metadata": {
    "collapsed": false
   },
   "outputs": [
    {
     "name": "stdout",
     "output_type": "stream",
     "text": [
      "0.786622408718\n"
     ]
    }
   ],
   "source": [
    "\n",
    "Xtrain, Xtest, ytrain, ytest=train_test_split(commentVector,d,test_size=.66)\n",
    "textPipeMC=Pipeline([('vect',CountVectorizer()),\n",
    "                   ('tfidf',TfidfTransformer(use_idf=True)),\n",
    "                   ('clf',OneVsRestClassifier(SVC(kernel='linear',decision_function_shape=None)))])\n",
    "\n",
    "textPipeMC.fit(Xtrain,ytrain)\n",
    "print(textPipeMC.score(Xtest,ytest))"
   ]
  },
  {
   "cell_type": "code",
   "execution_count": 41,
   "metadata": {
    "collapsed": false,
    "scrolled": true
   },
   "outputs": [
    {
     "data": {
      "text/html": [
       "<div>\n",
       "<table border=\"1\" class=\"dataframe\">\n",
       "  <thead>\n",
       "    <tr style=\"text-align: right;\">\n",
       "      <th></th>\n",
       "      <th>comment</th>\n",
       "    </tr>\n",
       "  </thead>\n",
       "  <tbody>\n",
       "    <tr>\n",
       "      <th>0</th>\n",
       "      <td>I DON T REALLY LIKE THE BUTTON/KNOB LAYOUT ON ...</td>\n",
       "    </tr>\n",
       "    <tr>\n",
       "      <th>1</th>\n",
       "      <td>CD PLAYER</td>\n",
       "    </tr>\n",
       "    <tr>\n",
       "      <th>2</th>\n",
       "      <td>A PILLAR IS HARD TO SEE AROUND AT AN INTERSEC...</td>\n",
       "    </tr>\n",
       "    <tr>\n",
       "      <th>3</th>\n",
       "      <td>A PILLARS OBSTRUCT SIDE VIEW A LITTLE TOO MUCH</td>\n",
       "    </tr>\n",
       "    <tr>\n",
       "      <th>4</th>\n",
       "      <td>AUTOMATIC HIGH/LOW BEAMS</td>\n",
       "    </tr>\n",
       "  </tbody>\n",
       "</table>\n",
       "</div>"
      ],
      "text/plain": [
       "                                             comment\n",
       "0  I DON T REALLY LIKE THE BUTTON/KNOB LAYOUT ON ...\n",
       "1                                         CD PLAYER \n",
       "2   A PILLAR IS HARD TO SEE AROUND AT AN INTERSEC...\n",
       "3     A PILLARS OBSTRUCT SIDE VIEW A LITTLE TOO MUCH\n",
       "4                           AUTOMATIC HIGH/LOW BEAMS"
      ]
     },
     "execution_count": 41,
     "metadata": {},
     "output_type": "execute_result"
    }
   ],
   "source": [
    "allData=pd.read_csv(\"Data/allitverbatims.csv\")\n",
    "allData.head()"
   ]
  },
  {
   "cell_type": "code",
   "execution_count": 42,
   "metadata": {
    "collapsed": false
   },
   "outputs": [
    {
     "name": "stdout",
     "output_type": "stream",
     "text": [
      "['I DON T REALLY LIKE THE BUTTON/KNOB LAYOUT ON THE CENTER CONSOLE '\n",
      " '  CD PLAYER ' ' A PILLAR IS HARD TO SEE AROUND AT AN INTERSECTION'\n",
      " ' A PILLARS OBSTRUCT SIDE VIEW A LITTLE TOO MUCH'\n",
      " ' AUTOMATIC HIGH/LOW BEAMS'\n",
      " ' BETTER VOICE CONTROL ONLINE NAVIGATION MAP UPDATES HAVING 4G INSTEAD OF 3G '\n",
      " ' CAR NEXT TO YOU LIGHT ON SIDE MIRROR HELPS WITH SIDE BLIND SPOTS'\n",
      " ' CONNECTED APPLICATIONS RUNNING ON THE PHONE ARE NOT PRACTICAL IT SHOULD NOT BE REQUIRED TO KEEP THE APPLICATION IN THE FOREGROUND ON THE PHONE WHY CAN T THE CAR READ RECEIVED TEXT OR ALLOW ME TO DICTATE NEW TEXTS? THIS SEEMS LIKE A MUST HAVE '\n",
      " ' FUN FACTOR'\n",
      " ' GOOD I VE BEEN TOLD BY FAMILY AND FRIENDS THE BACK SEATS GIVE THEM GOOD VISIBILITY OF THE OUTSIDE ']\n"
     ]
    }
   ],
   "source": [
    "allData=allData.dropna()\n",
    "comments=allData[\"comment\"].values\n",
    "print(comments[:10])\n",
    "preds=textPipeMC.predict(comments)"
   ]
  },
  {
   "cell_type": "code",
   "execution_count": null,
   "metadata": {
    "collapsed": false
   },
   "outputs": [],
   "source": [
    "print(preds[:10])"
   ]
  },
  {
   "cell_type": "code",
   "execution_count": null,
   "metadata": {
    "collapsed": false
   },
   "outputs": [],
   "source": [
    "col=dataset.drop([\"comment\"],1).columns.values\n",
    "predCatList=[]\n",
    "for i in range(len(comments)):\n",
    "    l=[]\n",
    "    for j in range(43):\n",
    "        if preds[i,j]==1:\n",
    "            l.append(m.classes_[j])\n",
    "    predCatList.append(l)\n",
    "print(predCatList[0:10])"
   ]
  },
  {
   "cell_type": "code",
   "execution_count": null,
   "metadata": {
    "collapsed": false
   },
   "outputs": [],
   "source": [
    "print(col)"
   ]
  },
  {
   "cell_type": "code",
   "execution_count": null,
   "metadata": {
    "collapsed": false
   },
   "outputs": [],
   "source": [
    "print(comments[5223],predCatList[5223])"
   ]
  },
  {
   "cell_type": "code",
   "execution_count": null,
   "metadata": {
    "collapsed": false
   },
   "outputs": [],
   "source": [
    "with open(\"outputcategories.csv\", \"wb\") as f:\n",
    "    writer = csv.writer(f)\n",
    "    writer.writerows(predCatList)\n",
    "\n",
    "with open(\"outputcomments.csv\", \"wb\") as f:\n",
    "    writer = csv.writer(f, dialect='excel', delimiter='\\r')\n",
    "    writer.writerow(np.transpose(comments).tolist())"
   ]
  },
  {
   "cell_type": "code",
   "execution_count": null,
   "metadata": {
    "collapsed": false
   },
   "outputs": [],
   "source": [
    "print(len(comments))"
   ]
  },
  {
   "cell_type": "code",
   "execution_count": null,
   "metadata": {
    "collapsed": true
   },
   "outputs": [],
   "source": []
  }
 ],
 "metadata": {
  "kernelspec": {
   "display_name": "Python 2",
   "language": "python",
   "name": "python2"
  },
  "language_info": {
   "codemirror_mode": {
    "name": "ipython",
    "version": 2
   },
   "file_extension": ".py",
   "mimetype": "text/x-python",
   "name": "python",
   "nbconvert_exporter": "python",
   "pygments_lexer": "ipython2",
   "version": "2.7.6"
  }
 },
 "nbformat": 4,
 "nbformat_minor": 0
}
